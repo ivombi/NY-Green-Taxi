{
 "cells": [
  {
   "cell_type": "markdown",
   "metadata": {},
   "source": [
    "#### Purpose: New York Visualization Project\n",
    "#### Author: Kubam Ivo\n",
    "#### Date: 1/19/2021"
   ]
  },
  {
   "cell_type": "markdown",
   "metadata": {},
   "source": [
    "This notebook illustrates the class implementation of the visualization project. "
   ]
  },
  {
   "cell_type": "code",
   "execution_count": 1,
   "metadata": {},
   "outputs": [],
   "source": [
    "#Import The NYTaxiViz class\n",
    "from newyorkviz import NYTaxiViz "
   ]
  },
  {
   "cell_type": "code",
   "execution_count": 2,
   "metadata": {},
   "outputs": [],
   "source": [
    "# Creating class instance\n",
    "taxi = NYTaxiViz ()\n",
    "taxi.set_directory()"
   ]
  },
  {
   "cell_type": "code",
   "execution_count": 3,
   "metadata": {},
   "outputs": [],
   "source": [
    "# Setting directories yellow and green taxi\n",
    "taxi.set_directory()"
   ]
  },
  {
   "cell_type": "code",
   "execution_count": 4,
   "metadata": {},
   "outputs": [],
   "source": [
    "# Processing our datasets and receiving two ouputs\n",
    "df, df_zone= taxi.process()"
   ]
  },
  {
   "cell_type": "code",
   "execution_count": 5,
   "metadata": {},
   "outputs": [],
   "source": [
    "# Subsidiary input values for the ipython widget\n",
    "loc_list = taxi.loc_list()\n",
    "stat_list = taxi.stat_list\n",
    "field_list = taxi.field_list"
   ]
  },
  {
   "cell_type": "code",
   "execution_count": 6,
   "metadata": {},
   "outputs": [],
   "source": [
    "# Facilator function that receives inputs from ipython widgets passed them on to the plotting method of the class\n",
    "def taxi_viz1(start, end,stat,field,taxi,borough,month,size,date):\n",
    "    return NYTaxiViz.taxi_viz(start, end,stat,field,taxi,borough,month,size,date,df,df_zone)\n"
   ]
  },
  {
   "cell_type": "code",
   "execution_count": 7,
   "metadata": {},
   "outputs": [],
   "source": [
    "# Ipython widgets \n",
    "\n",
    "from __future__ import print_function\n",
    "from ipywidgets import interact, interactive, fixed, interact_manual\n",
    "import ipywidgets as widgets\n",
    "import pandas as pd\n",
    "\n",
    "a = widgets.Dropdown(description='Start',options=loc_list,value=265)\n",
    "b = widgets.Dropdown(description='End',options=loc_list,value=265)\n",
    "c = widgets.RadioButtons(description='Stat',options=stat_list, value='median')\n",
    "d = widgets.Select(description='Field',options=field_list, value='trip_duration')\n",
    "e = widgets.RadioButtons(description='Taxi',options=['All','green','yellow'], value='All')\n",
    "f = widgets.SelectMultiple(description='Borough',options=['Bronx','Brooklyn','EWR','Manhattan','Staten Island', 'Queens'], value=['Manhattan','Queens'])\n",
    "g = widgets.SelectMultiple(description='Select Month',options=['January','February','March','April','May','June','July','August','September','October','November','December'] \\\n",
    "                           , value=['January','February','March','April','May','June','July','August','September','October','November','December'])\n",
    "\n",
    "h = widgets.DatePicker(description='Pick a Date',value = pd.to_datetime('2009-01-01'), disabled=False)\n",
    "i = widgets.FloatSlider(value=1,min=0.1,max=1,step=0.1,description='Size:',orientation='horizontal',readout=True,readout_format='d')\n",
    "\n",
    "loc_box = widgets.HBox([f, a,b])\n",
    "stat_box = widgets.HBox([e,c,d])\n",
    "time_box = widgets.HBox([h,g,i])\n",
    "accordion = widgets.Accordion(children=[loc_box,stat_box,time_box])\n",
    "accordion.set_title(0, 'Location')\n",
    "accordion.set_title(1, 'Statistics')\n",
    "accordion.set_title(2, 'Sample Size')\n",
    "out = widgets.interactive_output(taxi_viz1,{'start':a,'end':b,'taxi':e, 'stat':c, 'field':d,'borough':f,'month':g, 'date':h, 'size':i})\n"
   ]
  },
  {
   "cell_type": "code",
   "execution_count": 8,
   "metadata": {},
   "outputs": [
    {
     "data": {
      "application/vnd.jupyter.widget-view+json": {
       "model_id": "9749d9f7ea5b429cb2559a581436108b",
       "version_major": 2,
       "version_minor": 0
      },
      "text/plain": [
       "Accordion(children=(HBox(children=(SelectMultiple(description='Borough', index=(3, 5), options=('Bronx', 'Broo…"
      ]
     },
     "metadata": {},
     "output_type": "display_data"
    },
    {
     "data": {
      "application/vnd.jupyter.widget-view+json": {
       "model_id": "d54b7fd8cc784d9fa3607ed37a6676fd",
       "version_major": 2,
       "version_minor": 0
      },
      "text/plain": [
       "Output()"
      ]
     },
     "metadata": {},
     "output_type": "display_data"
    }
   ],
   "source": [
    "display(accordion, out)"
   ]
  },
  {
   "cell_type": "code",
   "execution_count": null,
   "metadata": {},
   "outputs": [],
   "source": []
  }
 ],
 "metadata": {
  "kernelspec": {
   "display_name": "Python 3",
   "language": "python",
   "name": "python3"
  },
  "language_info": {
   "codemirror_mode": {
    "name": "ipython",
    "version": 3
   },
   "file_extension": ".py",
   "mimetype": "text/x-python",
   "name": "python",
   "nbconvert_exporter": "python",
   "pygments_lexer": "ipython3",
   "version": "3.8.3"
  }
 },
 "nbformat": 4,
 "nbformat_minor": 4
}
