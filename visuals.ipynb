{
 "cells": [
  {
   "cell_type": "markdown",
   "metadata": {},
   "source": [
    "#### Purpose: New York Visualization Project\n",
    "#### Autho: Kubam Ivo\n",
    "#### Date: 1/19/2021"
   ]
  },
  {
   "cell_type": "markdown",
   "metadata": {},
   "source": [
    "### Importing and preparing dataset"
   ]
  },
  {
   "cell_type": "code",
   "execution_count": 39,
   "metadata": {},
   "outputs": [],
   "source": [
    "#importing necessary libraries\n",
    "import pandas as pd\n",
    "import numpy as np\n",
    "from sort_dataframeby_monthorweek import Sort_Dataframeby_Month\n",
    "import matplotlib.pyplot as plt\n",
    "import seaborn as sns"
   ]
  },
  {
   "cell_type": "markdown",
   "metadata": {},
   "source": [
    "Notebooks shows how the raw implementation before it was converted to a class"
   ]
  },
  {
   "cell_type": "code",
   "execution_count": 40,
   "metadata": {},
   "outputs": [],
   "source": [
    "import warnings\n",
    "warnings.filterwarnings('ignore')"
   ]
  },
  {
   "cell_type": "code",
   "execution_count": 41,
   "metadata": {},
   "outputs": [],
   "source": [
    "\n",
    "df_y = pd.read_csv(\"C:\\\\Users\\\\ivomb\\\\OneDrive\\\\Msc Data Science\\\\INFOH600-Computing Foundations\\\\Project\\\\df_yellow.csv\")\n",
    "df_g = pd.read_csv(\"C:\\\\Users\\\\ivomb\\\\OneDrive\\\\Msc Data Science\\\\INFOH600-Computing Foundations\\\\Project\\\\df_green.csv\")\n",
    "df_loc = pd.read_csv(\"./data/df_loc.csv\")"
   ]
  },
  {
   "cell_type": "code",
   "execution_count": 42,
   "metadata": {},
   "outputs": [],
   "source": [
    "# Filtering needed columns \n",
    "df_y = df_y[['tpep_pickup_datetime', 'tpep_dropoff_datetime', 'trip_distance', 'pulocationid', \\\n",
    "         'dolocationid', 'tip_amount', 'total_amount', 'fare_amount', 'trip_month' ]]\n",
    "\n",
    "df_g = df_g[['lpep_pickup_datetime', 'lpep_dropoff_datetime', 'trip_distance', 'pulocationid', \\\n",
    "         'dolocationid', 'tip_amount', 'total_amount', 'trip_month' ]]"
   ]
  },
  {
   "cell_type": "code",
   "execution_count": 43,
   "metadata": {},
   "outputs": [],
   "source": [
    "# Ensuring pickup and dropoff fields are datetime\n",
    "\n",
    "df_y['tpep_pickup_datetime'] = pd.to_datetime(df_y['tpep_pickup_datetime'])\n",
    "df_y['tpep_dropoff_datetime'] = pd.to_datetime(df_y['tpep_dropoff_datetime'])\n",
    "df_g['lpep_pickup_datetime'] = pd.to_datetime(df_g['lpep_pickup_datetime'])\n",
    "df_g['lpep_dropoff_datetime'] = pd.to_datetime(df_g['lpep_dropoff_datetime'])"
   ]
  },
  {
   "cell_type": "code",
   "execution_count": 44,
   "metadata": {},
   "outputs": [],
   "source": [
    "# Extracting new columns\n",
    "df_y['day'] = df_y['tpep_pickup_datetime'].apply(lambda time: time.dayofweek)\n",
    "df_y['day_name'] = df_y['tpep_pickup_datetime'].dt.day_name()\n",
    "df_y['month_name'] = df_y['tpep_pickup_datetime'].dt.month_name()\n",
    "df_y['year'] = pd.DatetimeIndex(df_y.loc[:,'tpep_pickup_datetime']).year\n",
    "df_y['hour'] = pd.DatetimeIndex(df_y.loc[:,'tpep_pickup_datetime']).hour\n",
    "df_y['trip_duration'] = (df_y['tpep_dropoff_datetime'] -\\\n",
    "                         df_y['tpep_pickup_datetime']).astype('timedelta64[m]')\n",
    "df_y['uc_mile'] = df_y['total_amount']/df_y['trip_distance']\n",
    "df_y['taxi_type'] = 'yellow'\n",
    "\n",
    "df_g['day'] = df_g['lpep_dropoff_datetime'].apply(lambda time: time.dayofweek)\n",
    "df_g['day_name'] = df_g['lpep_dropoff_datetime'].dt.day_name()\n",
    "df_g['month_name'] = df_g['lpep_dropoff_datetime'].dt.month_name()\n",
    "df_g['year'] = pd.DatetimeIndex(df_g.loc[:,'lpep_pickup_datetime']).year\n",
    "df_g['hour'] = pd.DatetimeIndex(df_g.loc[:,'lpep_pickup_datetime']).hour\n",
    "df_g['trip_duration'] = (df_g['lpep_dropoff_datetime'] - \\\n",
    "                         df_g['lpep_pickup_datetime']).astype('timedelta64[m]')\n",
    "df_g['uc_mile'] = df_g['trip_distance']/df_g['total_amount']\n",
    "df_g['taxi_type'] = 'green'"
   ]
  },
  {
   "cell_type": "code",
   "execution_count": 45,
   "metadata": {},
   "outputs": [],
   "source": [
    "# Renaming the schema of green taxi to match that of yellow\n",
    "df_g.rename(columns={'lpep_dropoff_datetime':'tpep_dropoff_datetime', 'lpep_pickup_datetime': 'tpep_pickup_datetime'},inplace=True)\n"
   ]
  },
  {
   "cell_type": "code",
   "execution_count": 46,
   "metadata": {},
   "outputs": [],
   "source": [
    "# concat both datasets\n",
    "df_concat = pd.concat([df_y,df_g])"
   ]
  },
  {
   "cell_type": "code",
   "execution_count": 47,
   "metadata": {},
   "outputs": [],
   "source": [
    "# Deleting rows with pickup time less than dropoff time\n",
    "index_name = df_concat[df_concat['trip_duration']<0].index\n",
    "df_concat.drop(index_name,inplace=True)"
   ]
  },
  {
   "cell_type": "code",
   "execution_count": 48,
   "metadata": {},
   "outputs": [],
   "source": [
    "def taxi_plot(df,stat,taxi,field,start,end,date,size):\n",
    "    x_axis_labels = ['Jan','Feb','Mar','Apr','May','Jun','Jul','Aug','Sep','Oct','Nov','Dec'] # labels for x-axis\n",
    "    y_axis_labels = ['Mon','Tue','Wed','Thur','Fri','Sat','Sun'] # labels for y-axis\n",
    "     \n",
    "    x1 = df.groupby(['hour','day']).agg(value = (field,stat),).reset_index()\n",
    "    x1 = x1.pivot('day', 'hour', \"value\")\n",
    "    y1 = df.groupby(['trip_month','taxi_type']).agg(value = (field,stat),).reset_index() \n",
    "    \n",
    "    y = size*100\n",
    "    print('Records from: ', pd.to_datetime(date))\n",
    "    print('Records in use: ', '{:,.2f} %'.format(y))\n",
    "    print('Number of Trips: ', f'{df[field].count():,}')\n",
    "    x = df['uc_mile'].median()\n",
    "    print('Expected Unit cost per Mile: ', '${:,.2f}'.format(x)) \n",
    "    \n",
    "    \n",
    "    \n",
    "    fig = plt.figure(figsize=(15, 12))\n",
    "    a = plt.subplot2grid((3, 3), (0, 0), colspan=2)\n",
    "    a = sns.barplot(x='trip_month', y=\"value\", data=y1, hue='taxi_type',palette=\"Paired\")\n",
    "    a.set(xlabel='Month', ylabel=field, xticklabels=x_axis_labels)\n",
    "    a.legend(loc='outside')\n",
    "    b = plt.subplot2grid((3, 3), (1, 0), colspan=3)\n",
    "    b = sns.heatmap(x1, annot=True,linewidths=.5, yticklabels=y_axis_labels, cmap=\"YlOrBr\") \n",
    "    c = plt.subplot2grid((3, 3), (0, 2), rowspan=1)\n",
    "    c = sns.violinplot(x=field,palette=\"Paired\", data= df)     \n",
    "            \n",
    "    if field == 'trip_duration':    \n",
    "        a.set_ylabel('Trip_duration (mins)')\n",
    "        a.set_xlabel('')\n",
    "        a.set_title('Monthly '+stat+ ' '+ field +' for '+ taxi + ' taxi '  )\n",
    "        b.set_title('Daily Heatmap for '+stat+ ' ' + field + ' for ' + taxi +  ' taxi ')\n",
    "        c.set_title('Distribution for '+ field + ' for ' + taxi + ' taxi ')\n",
    "        \n",
    "    elif field == 'total_amount':\n",
    "        a.set_ylabel('Total amount (dollars)')\n",
    "        a.set_xlabel('')\n",
    "        a.set_title('Monthly '+stat+ ' '+ field +' for '+ taxi + ' taxi '  )\n",
    "        b.set_title('Daily Heatmap for '+stat+ ' ' + field + ' for ' + taxi +  ' taxi ')\n",
    "        c.set_title('Distribution for '+ field + ' for ' + taxi + ' taxi ')\n",
    "        \n",
    "    elif field == 'tip_amount':\n",
    "        a.set_ylabel('Tip amount (dollars)')\n",
    "        a.set_xlabel('')\n",
    "        a.set_title('Monthly '+stat+ ' '+ field +' for '+ taxi + ' taxi '  )\n",
    "        b.set_title('Daily Heatmap for '+stat+ ' ' + field + ' for ' + taxi +  ' taxi ')\n",
    "        c.set_title('Distribution for '+ field + ' for ' + taxi + ' taxi ')\n",
    "        \n",
    "    elif field == 'trip_distance':\n",
    "        a.set_ylabel('Trip distance (Miles)')\n",
    "        a.set_xlabel('')\n",
    "        a.set_title('Monthly '+stat+ ' '+ field +' for '+ taxi + ' taxi '  )\n",
    "        b.set_title('Daily Heatmap for '+stat+ ' ' + field + ' for ' + taxi +  ' taxi ')\n",
    "        c.set_title('Distribution for '+ field + ' for ' + taxi + ' taxi ')\n",
    "            \n",
    "   \n",
    "    fig.suptitle('Visualization Dashboard  from ' + df_loc['Zone'][df_loc['LocationID']==start].any() + \\\n",
    "                             ' to ' + df_loc['Zone'][df_loc['LocationID']==end].any() + ' Zone', fontsize=16)\n",
    "    #fig.subplots_adjust(top=0.88)\n",
    "    #fig.tight_layout()\n",
    "\n",
    "    plt.show()\n",
    "    "
   ]
  },
  {
   "cell_type": "code",
   "execution_count": 49,
   "metadata": {},
   "outputs": [],
   "source": [
    "stat_list = [('mean','mean'),('median','median')]\n",
    "field_list = [('Trip duration','trip_duration'),('Trip Amount','total_amount'),('Tips Amount','tip_amount'),\\\n",
    "                  ('Trip distance','trip_distance')]  \n",
    "\n",
    "dict = {}\n",
    "for i in range(df_loc.shape[0]):\n",
    "    dict[df_loc['Zone'][i]] = df_loc['LocationID'][i]\n",
    "\n",
    "loc_list = [(k, v) for k, v in dict.items()] "
   ]
  },
  {
   "cell_type": "markdown",
   "metadata": {},
   "source": [
    "#### Auxillary Functions to create Visuals"
   ]
  },
  {
   "cell_type": "code",
   "execution_count": 50,
   "metadata": {},
   "outputs": [],
   "source": [
    "def taxi_viz(start, end,stat,field,taxi,borough,month,size,date,df=df_concat,df_zone = df_loc):\n",
    "    '''Function to create plot based on defined route'''\n",
    "    from sort_dataframeby_monthorweek import Sort_Dataframeby_Month\n",
    "    import matplotlib.pyplot as plt\n",
    "    import seaborn as sns\n",
    "    import numpy as np  \n",
    "    \n",
    "    \n",
    "    df_zone = df_zone[df_zone['Borough'].isin(list(borough))]\n",
    "    dict = {}\n",
    "    df_zone = df_zone.reset_index()\n",
    "    for i in range(df_zone.shape[0]):\n",
    "        dict[df_zone['Zone'][i]] = df_zone['LocationID'][i]\n",
    "    dict['ALL'] = 265\n",
    "    loc_list = [(k, v) for k, v in dict.items()] \n",
    "    \n",
    "   \n",
    "    df = pd.DataFrame(df.loc[(df['pulocationid'].isin(dict.values())) & (df['dolocationid'].isin(dict.values()))\\\n",
    "                            & (df['month_name'].isin(month)) & (df['tpep_pickup_datetime'] >= pd.to_datetime(date))])\n",
    "    \n",
    "    #df = df.sample(frac=size)\n",
    "    \n",
    "    if (start ==265  and end == 265 ) and taxi=='All':\n",
    "          \n",
    "        taxi_plot(df,stat,taxi,field,start,end,date,size)\n",
    "        \n",
    "    elif (start==265  and end ==265) and taxi=='green':\n",
    "        df_g = pd.DataFrame(df.loc[(df.taxi_type=='green')])\n",
    "        if df_g.shape[0] == 0:\n",
    "            print('No record to display for this route')\n",
    "        else:       \n",
    "                        \n",
    "            taxi_plot(df_g,stat,taxi,field,start,end,date,size)\n",
    "            \n",
    "    elif (start==265  and end ==265) and taxi=='yellow':\n",
    "        df_g = pd.DataFrame(df.loc[(df.taxi_type=='yellow')])\n",
    "        if df_g.shape[0] == 0:\n",
    "            print('No record to display for this route')\n",
    "        else:       \n",
    "                        \n",
    "            taxi_plot(df_g,stat,taxi,field,start,end,date,size)\n",
    "            \n",
    "    elif start!=265  and end ==265 and taxi =='All':\n",
    "        df_g = pd.DataFrame(df.loc[(df.pulocationid==int(start))])\n",
    "        if df_g.shape[0] == 0:\n",
    "            print('No record to display for this route')\n",
    "        else:       \n",
    "                        \n",
    "            taxi_plot(df_g,stat,taxi,field,start,end,date,size)\n",
    "    \n",
    "            \n",
    "    \n",
    "    elif (start!=265  and end ==265) and taxi=='green':\n",
    "        df_g = pd.DataFrame(df.loc[(df.pulocationid==int(start)) & (df.taxi_type=='green')])\n",
    "        if df_g.shape[0] == 0:\n",
    "            print('No record to display for this route')\n",
    "        else:       \n",
    "                        \n",
    "            taxi_plot(df_g,stat,taxi,field,start,end,date,size)\n",
    "    \n",
    "    elif (start!=265  and end ==265) and taxi=='yellow':\n",
    "        df_g = pd.DataFrame(df.loc[(df.pulocationid==int(start)) & (df.taxi_type=='yellow')])\n",
    "        if df_g.shape[0] == 0:\n",
    "            print('No record to display for this route')\n",
    "        else:       \n",
    "                        \n",
    "            taxi_plot(df_g,stat,taxi,field,start,end,date,size)\n",
    "        \n",
    "    elif not (start ==265  and end == 265 ) and taxi=='All':\n",
    "        \n",
    "        \n",
    "        \n",
    "        df_g = pd.DataFrame(df.loc[(df.pulocationid==int(start)) & (df.dolocationid==int(end))] )\n",
    "        if df_g.shape[0] == 0:\n",
    "            print('No record to display for this route')\n",
    "        else:       \n",
    "                        \n",
    "            taxi_plot(df_g,stat,taxi,field,start,end,date,size)\n",
    "            \n",
    "    elif not (start ==265  and end == 265 ) and taxi=='green':\n",
    "        \n",
    "        df_g = pd.DataFrame(df.loc[(df.pulocationid==int(start)) & (df.dolocationid==int(end)) \\\n",
    "                           & (df.taxi_type=='green')])\n",
    "        if df_g.shape[0] == 0:\n",
    "            print('No record to display for this route')\n",
    "        else:\n",
    "            taxi_plot(df_g,stat,taxi,field,start,end,date,size) \n",
    "            \n",
    "    elif not (start ==265  and end == 265 ) and taxi=='yellow':\n",
    "        \n",
    "        df_g = pd.DataFrame(df.loc[(df.pulocationid==int(start)) & (df.dolocationid==int(end)) \\\n",
    "                           & (df.taxi_type=='yellow')])\n",
    "        if df_g.shape[0] == 0:\n",
    "            print('No record to display for this route')\n",
    "        else:\n",
    "            taxi_plot(df_g,stat,taxi,field,start,end,date,size)\n",
    "                   \n",
    "        "
   ]
  },
  {
   "cell_type": "code",
   "execution_count": 59,
   "metadata": {},
   "outputs": [],
   "source": [
    "from __future__ import print_function\n",
    "from ipywidgets import interact, interactive, fixed, interact_manual\n",
    "import ipywidgets as widgets\n",
    "\n",
    "a = widgets.Dropdown(description='Start',options=loc_list,value=132)\n",
    "b = widgets.Dropdown(description='End',options=loc_list,value=265)\n",
    "c = widgets.RadioButtons(description='Stat',options=stat_list, value='median')\n",
    "d = widgets.Select(description='Field',options=field_list, value='trip_duration')\n",
    "e = widgets.RadioButtons(description='Taxi',options=['All','green','yellow'], value='All')\n",
    "f = widgets.SelectMultiple(description='Borough',options=['Bronx','Brooklyn','EWR','Manhattan','Staten Island', 'Queens'], value=['Manhattan','Queens'])\n",
    "g = widgets.SelectMultiple(description='Select Month',options=['January','February','March','April','May','June','July','August','September','October','November','December'] \\\n",
    "                           , value=['January','February','March','April','May','June','July','August','September','October','November','December'])\n",
    "\n",
    "h = widgets.DatePicker(description='Pick a Date',value = pd.to_datetime('2009-01-01'), disabled=False)\n",
    "i = widgets.FloatSlider(value=1,min=0.1,max=1,step=0.1,description='Size:',orientation='horizontal',readout=True,readout_format='d')\n",
    "\n",
    "loc_box = widgets.HBox([f, a,b])\n",
    "stat_box = widgets.HBox([e,c,d])\n",
    "time_box = widgets.HBox([h,g,i])\n",
    "accordion = widgets.Accordion(children=[loc_box,stat_box,time_box])\n",
    "accordion.set_title(0, 'Location')\n",
    "accordion.set_title(1, 'Statistics')\n",
    "accordion.set_title(2, 'Sample Size')\n",
    "out = widgets.interactive_output(taxi_viz,{'start':a,'end':b,'taxi':e, 'stat':c, 'field':d,'borough':f,'month':g, 'date':h, 'size':i})\n"
   ]
  },
  {
   "cell_type": "code",
   "execution_count": 60,
   "metadata": {},
   "outputs": [
    {
     "data": {
      "application/vnd.jupyter.widget-view+json": {
       "model_id": "446a5838eddf4d1896a421ddb95b2b1c",
       "version_major": 2,
       "version_minor": 0
      },
      "text/plain": [
       "Accordion(children=(HBox(children=(SelectMultiple(description='Borough', index=(3, 5), options=('Bronx', 'Broo…"
      ]
     },
     "metadata": {},
     "output_type": "display_data"
    },
    {
     "data": {
      "application/vnd.jupyter.widget-view+json": {
       "model_id": "6c3c88e8de3b4193b928c44d84c67ed2",
       "version_major": 2,
       "version_minor": 0
      },
      "text/plain": [
       "Output()"
      ]
     },
     "metadata": {},
     "output_type": "display_data"
    }
   ],
   "source": [
    "display(accordion, out)"
   ]
  },
  {
   "cell_type": "code",
   "execution_count": null,
   "metadata": {},
   "outputs": [],
   "source": []
  },
  {
   "cell_type": "code",
   "execution_count": null,
   "metadata": {},
   "outputs": [],
   "source": []
  }
 ],
 "metadata": {
  "kernelspec": {
   "display_name": "Python 3",
   "language": "python",
   "name": "python3"
  },
  "language_info": {
   "codemirror_mode": {
    "name": "ipython",
    "version": 3
   },
   "file_extension": ".py",
   "mimetype": "text/x-python",
   "name": "python",
   "nbconvert_exporter": "python",
   "pygments_lexer": "ipython3",
   "version": "3.8.3"
  }
 },
 "nbformat": 4,
 "nbformat_minor": 4
}
