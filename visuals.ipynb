{
 "cells": [
  {
   "cell_type": "markdown",
   "metadata": {},
   "source": [
    "#### Purpose: New York Visualization Project\n",
    "#### Autho: Kubam Ivo\n",
    "#### Date: 1/19/2021"
   ]
  },
  {
   "cell_type": "markdown",
   "metadata": {},
   "source": [
    "### Importing and preparing dataset"
   ]
  },
  {
   "cell_type": "code",
   "execution_count": 1059,
   "metadata": {},
   "outputs": [],
   "source": [
    "import pandas as pd\n",
    "df_y = pd.read_csv(\"C:\\\\Users\\\\ivomb\\\\OneDrive\\\\Msc Data Science\\\\INFOH600-Computing Foundations\\\\Project\\\\df_yellow.csv\")\n",
    "df_g = pd.read_csv(\"C:\\\\Users\\\\ivomb\\\\OneDrive\\\\Msc Data Science\\\\INFOH600-Computing Foundations\\\\Project\\\\df_green.csv\")\n",
    "df_loc = pd.read_csv(\"C:\\\\Users\\\\ivomb\\\\Downloads\\\\taxi+_zone_lookup.csv\")"
   ]
  },
  {
   "cell_type": "code",
   "execution_count": 865,
   "metadata": {},
   "outputs": [],
   "source": [
    "# Filtering needed columns \n",
    "df_y = df_y[['tpep_pickup_datetime', 'tpep_dropoff_datetime', 'trip_distance', 'pulocationid', \\\n",
    "         'dolocationid', 'tip_amount', 'total_amount', 'trip_month' ]]\n",
    "\n",
    "df_g = df_g[['lpep_pickup_datetime', 'lpep_dropoff_datetime', 'trip_distance', 'pulocationid', \\\n",
    "         'dolocationid', 'tip_amount', 'total_amount', 'trip_month' ]]"
   ]
  },
  {
   "cell_type": "code",
   "execution_count": 866,
   "metadata": {},
   "outputs": [],
   "source": [
    "import warnings\n",
    "warnings.filterwarnings('ignore')"
   ]
  },
  {
   "cell_type": "code",
   "execution_count": 867,
   "metadata": {},
   "outputs": [],
   "source": [
    "# Ensuring pickup and dropoff fields are datetime\n",
    "\n",
    "df_y['tpep_pickup_datetime'] = pd.to_datetime(df_y['tpep_pickup_datetime'])\n",
    "df_y['tpep_dropoff_datetime'] = pd.to_datetime(df_y['tpep_dropoff_datetime'])\n",
    "df_g['lpep_pickup_datetime'] = pd.to_datetime(df_g['lpep_pickup_datetime'])\n",
    "df_g['lpep_dropoff_datetime'] = pd.to_datetime(df_g['lpep_dropoff_datetime'])"
   ]
  },
  {
   "cell_type": "code",
   "execution_count": 868,
   "metadata": {},
   "outputs": [],
   "source": [
    "# Extracting new columns\n",
    "df_y['day'] = df_y['tpep_pickup_datetime'].apply(lambda time: time.dayofweek)\n",
    "df_y['day_name'] = df_y['tpep_pickup_datetime'].dt.day_name()\n",
    "df_y['month_name'] = df_y['tpep_pickup_datetime'].dt.month_name()\n",
    "df_y['year'] = pd.DatetimeIndex(df_y.loc[:,'tpep_pickup_datetime']).year\n",
    "df_y['hour'] = pd.DatetimeIndex(df_y.loc[:,'tpep_pickup_datetime']).hour\n",
    "df_y['trip_duration'] = (df_y['tpep_dropoff_datetime'] -\\\n",
    "                         df_y['tpep_pickup_datetime']).astype('timedelta64[m]')\n",
    "df_y['uc_mile'] = df_y['trip_distance']/df['total_amount']\n",
    "df_y['taxi_type'] = 'yellow'\n",
    "\n",
    "df_g['day'] = df_g['lpep_dropoff_datetime'].apply(lambda time: time.dayofweek)\n",
    "df_g['day_name'] = df_g['lpep_dropoff_datetime'].dt.day_name()\n",
    "df_g['month_name'] = df_g['lpep_dropoff_datetime'].dt.month_name()\n",
    "df_g['year'] = pd.DatetimeIndex(df_g.loc[:,'lpep_pickup_datetime']).year\n",
    "df_g['hour'] = pd.DatetimeIndex(df_g.loc[:,'lpep_pickup_datetime']).hour\n",
    "df_g['trip_duration'] = (df_g['lpep_dropoff_datetime'] - \\\n",
    "                         df_g['lpep_pickup_datetime']).astype('timedelta64[m]')\n",
    "df_g['uc_mile'] = df_g['trip_distance']/df['total_amount']\n",
    "df_g['taxi_type'] = 'green'"
   ]
  },
  {
   "cell_type": "code",
   "execution_count": 869,
   "metadata": {},
   "outputs": [],
   "source": [
    "# Renaming the schema of green taxi to match that of yellow\n",
    "df_g.rename(columns={'lpep_dropoff_datetime':'tpep_dropoff_datetime', 'lpep_pickup_datetime': 'tpep_pickup_datetime'},inplace=True)\n"
   ]
  },
  {
   "cell_type": "code",
   "execution_count": 870,
   "metadata": {},
   "outputs": [
    {
     "data": {
      "text/plain": [
       "3258745"
      ]
     },
     "execution_count": 870,
     "metadata": {},
     "output_type": "execute_result"
    }
   ],
   "source": [
    "# concat both datasets\n",
    "df_concat = pd.concat([df_y,df_g])\n",
    "df_concat.head()\n"
   ]
  },
  {
   "cell_type": "code",
   "execution_count": 1206,
   "metadata": {},
   "outputs": [
    {
     "data": {
      "text/plain": [
       "446.64"
      ]
     },
     "execution_count": 1206,
     "metadata": {},
     "output_type": "execute_result"
    }
   ],
   "source": [
    "max(df_concat['tip_amount'])"
   ]
  },
  {
   "cell_type": "code",
   "execution_count": 1039,
   "metadata": {},
   "outputs": [
    {
     "data": {
      "text/html": [
       "<div>\n",
       "<style scoped>\n",
       "    .dataframe tbody tr th:only-of-type {\n",
       "        vertical-align: middle;\n",
       "    }\n",
       "\n",
       "    .dataframe tbody tr th {\n",
       "        vertical-align: top;\n",
       "    }\n",
       "\n",
       "    .dataframe thead th {\n",
       "        text-align: right;\n",
       "    }\n",
       "</style>\n",
       "<table border=\"1\" class=\"dataframe\">\n",
       "  <thead>\n",
       "    <tr style=\"text-align: right;\">\n",
       "      <th></th>\n",
       "      <th>LocationID</th>\n",
       "      <th>Borough</th>\n",
       "      <th>Zone</th>\n",
       "      <th>service_zone</th>\n",
       "    </tr>\n",
       "  </thead>\n",
       "  <tbody>\n",
       "    <tr>\n",
       "      <th>0</th>\n",
       "      <td>1</td>\n",
       "      <td>EWR</td>\n",
       "      <td>Newark Airport</td>\n",
       "      <td>EWR</td>\n",
       "    </tr>\n",
       "    <tr>\n",
       "      <th>1</th>\n",
       "      <td>2</td>\n",
       "      <td>Queens</td>\n",
       "      <td>Jamaica Bay</td>\n",
       "      <td>Boro Zone</td>\n",
       "    </tr>\n",
       "    <tr>\n",
       "      <th>2</th>\n",
       "      <td>3</td>\n",
       "      <td>Bronx</td>\n",
       "      <td>Allerton/Pelham Gardens</td>\n",
       "      <td>Boro Zone</td>\n",
       "    </tr>\n",
       "    <tr>\n",
       "      <th>3</th>\n",
       "      <td>4</td>\n",
       "      <td>Manhattan</td>\n",
       "      <td>Alphabet City</td>\n",
       "      <td>Yellow Zone</td>\n",
       "    </tr>\n",
       "    <tr>\n",
       "      <th>4</th>\n",
       "      <td>5</td>\n",
       "      <td>Staten Island</td>\n",
       "      <td>Arden Heights</td>\n",
       "      <td>Boro Zone</td>\n",
       "    </tr>\n",
       "  </tbody>\n",
       "</table>\n",
       "</div>"
      ],
      "text/plain": [
       "   LocationID        Borough                     Zone service_zone\n",
       "0           1            EWR           Newark Airport          EWR\n",
       "1           2         Queens              Jamaica Bay    Boro Zone\n",
       "2           3          Bronx  Allerton/Pelham Gardens    Boro Zone\n",
       "3           4      Manhattan            Alphabet City  Yellow Zone\n",
       "4           5  Staten Island            Arden Heights    Boro Zone"
      ]
     },
     "execution_count": 1039,
     "metadata": {},
     "output_type": "execute_result"
    }
   ],
   "source": [
    "df_loc.head()"
   ]
  },
  {
   "cell_type": "code",
   "execution_count": 871,
   "metadata": {},
   "outputs": [],
   "source": [
    "# Deleting rows with pickup time less than dropoff time\n",
    "index_name = df_concat[df_concat['trip_duration']<0].index\n",
    "df_concat.drop(index_name,inplace=True)"
   ]
  },
  {
   "cell_type": "code",
   "execution_count": 1224,
   "metadata": {},
   "outputs": [],
   "source": [
    "def taxi_plot(df,stat,taxi,field,start,end):\n",
    "    x_axis_labels = ['Jan','Feb','Mar','Apr','May','Jun','Jul','Aug','Sep','Oct','Nov','Dec'] # labels for x-axis\n",
    "    y_axis_labels = ['Mon','Tue','Wed','Thur','Fri','Sat','Sun'] # labels for y-axis\n",
    "     \n",
    "    x1 = df.groupby(['hour','day']).agg(value = (field,stat),).reset_index()\n",
    "    x1 = x1.pivot('day', 'hour', \"value\")\n",
    "    y1 = df.groupby(['trip_month','taxi_type']).agg(value = (field,stat),).reset_index() \n",
    "    \n",
    "    f, axes = plt.subplots(2, 1, figsize=(15,8))\n",
    "    a = sns.barplot(x='trip_month', y=\"value\", data=y1, hue='taxi_type',palette=\"Set2\", ax=axes[0])\n",
    "    a.set(xlabel='Month', ylabel=field, xticklabels=x_axis_labels)\n",
    "    a.legend(loc='outside')\n",
    "    b = sns.heatmap(x1, annot=True,linewidths=.5, ax=axes[1] , yticklabels=y_axis_labels, cmap=\"YlOrBr\")\n",
    "    print('Records: ',int(df[field].count()), 'Max: ',float(max(df[field])))       \n",
    "            \n",
    "    if field == 'trip_duration':    \n",
    "        a.set_ylabel('Trip_duration (mins)')\n",
    "        a.set_xlabel('Month')\n",
    "        a.set_title('Monthly '+stat+ ' '+ taxi + ' taxi ' + ' trip duration from ' + df_loc['Zone'][df_loc['LocationID']==start].any() + \\\n",
    "                             ' to ' + df_loc['Zone'][df_loc['LocationID']==end].any())\n",
    "    elif field == 'total_amount':\n",
    "        a.set_ylabel('Total amount (dollars)')\n",
    "        a.set_xlabel('Month')\n",
    "        a.set_title('Monthly '+stat+ ' '+ taxi + ' taxi ' + ' trip duration from ' + df_loc['Zone'][df_loc['LocationID']==start].any() + \\\n",
    "                             ' to ' + df_loc['Zone'][df_loc['LocationID']==end].any())\n",
    "    elif field == 'tip_amount':\n",
    "        a.set_ylabel('Tip amount (dollars)')\n",
    "        a.set_xlabel('Month')\n",
    "        a.set_title('Monthly '+stat+ ' '+ taxi + ' taxi ' + ' trip duration from ' + df_loc['Zone'][df_loc['LocationID']==start].any() + \\\n",
    "                             ' to ' + df_loc['Zone'][df_loc['LocationID']==end].any())\n",
    "    elif field == 'trip_distance':\n",
    "        a.set_ylabel('Trip distance (Miles)')\n",
    "        a.set_xlabel('Month')\n",
    "        a.set_title('Monthly '+stat+ ' '+ taxi + ' taxi ' + ' trip duration from ' + df_loc['Zone'][df_loc['LocationID']==start].any() + \\\n",
    "                             ' to ' + df_loc['Zone'][df_loc['LocationID']==end].any())\n",
    "            \n",
    "\n",
    "    fig.tight_layout()\n",
    "\n",
    "    plt.show()\n",
    "    "
   ]
  },
  {
   "cell_type": "markdown",
   "metadata": {},
   "source": [
    "#### Auxillary Functions to create Visuals"
   ]
  },
  {
   "cell_type": "code",
   "execution_count": 1225,
   "metadata": {},
   "outputs": [],
   "source": [
    "def taxi_viz(start, end,stat,field,taxi='All'):\n",
    "    '''Function to create plot based on defined route'''\n",
    "    from sort_dataframeby_monthorweek import Sort_Dataframeby_Month\n",
    "    import matplotlib.pyplot as plt\n",
    "    import seaborn as sns\n",
    "    import numpy as np  \n",
    "    \n",
    "    \n",
    "    stat_list = [('mean','mean'),('median','median')]\n",
    "    field_list = [('Duration trip','trip_duration'),('Trip Amount','total_amount'),('Tip Amount','tip_amount'),\\\n",
    "                  ('Trip distance','trip_distance')]  \n",
    "    dict = {}\n",
    "    for i in range(df_loc.shape[0]):\n",
    "        dict[df_loc['Zone'][i]] = df_loc['LocationID'][i]\n",
    "\n",
    "    loc_list = [(k, v) for k, v in dict.items()] \n",
    "    loc_list = loc_list[:-1]\n",
    "    \n",
    "    dict1 = {}\n",
    "    for i in np.unique(np.array(df_concat['dolocationid'][df_concat['pulocationid']==start])):\n",
    "        dict1[df_loc['Zone'][i-1]] = df_loc['LocationID'][i-1]\n",
    "\n",
    "    loc_list1= [(k, v) for k, v in dict1.items()] \n",
    "    loc_list1 = loc_list1[:-1]\n",
    "       \n",
    "    if (start ==265  and end == 265 ) and taxi=='All':\n",
    "          \n",
    "        taxi_plot(df_concat,stat,taxi,field,start,end)\n",
    "            \n",
    "    elif start!=265  and end ==265 and taxi =='All':\n",
    "        df_g = pd.DataFrame(df_concat.loc[(df_concat.pulocationid==int(start))])\n",
    "        if df_g.shape[0] == 0:\n",
    "            print('No record to display for this route')\n",
    "        else:       \n",
    "                        \n",
    "            taxi_plot(df_g,stat,taxi,field,start,end)\n",
    "            \n",
    "    \n",
    "    elif (start!=265  and end ==265) and taxi=='green':\n",
    "        df_g = pd.DataFrame(df_concat.loc[(df_concat.pulocationid==int(start)) & (df_concat.taxi_type=='green')])\n",
    "        if df_g.shape[0] == 0:\n",
    "            print('No record to display for this route')\n",
    "        else:       \n",
    "                        \n",
    "            taxi_plot(df_g,stat,taxi,field,start,end)\n",
    "    \n",
    "    elif (start!=265  and end ==265) and taxi=='yellow':\n",
    "        df_g = pd.DataFrame(df_concat.loc[(df_concat.pulocationid==int(start)) & (df_concat.taxi_type=='yellow')])\n",
    "        if df_g.shape[0] == 0:\n",
    "            print('No record to display for this route')\n",
    "        else:       \n",
    "                        \n",
    "            taxi_plot(df_g,stat,taxi,field,start,end)\n",
    "        \n",
    "    elif not (start ==265  and end == 265 ) and taxi=='All':\n",
    "        \n",
    "        \n",
    "        \n",
    "        df_g = pd.DataFrame(df_concat.loc[(df_concat.pulocationid==int(start)) & (df_concat.dolocationid==int(end))] )\n",
    "        if df_g.shape[0] == 0:\n",
    "            print('No record to display for this route')\n",
    "        else:       \n",
    "                        \n",
    "            taxi_plot(df_g,stat,taxi,field,start,end)\n",
    "            \n",
    "    elif not (start ==265  and end == 265 ) and taxi=='green':\n",
    "        \n",
    "        df_g = pd.DataFrame(df_concat.loc[(df_concat.pulocationid==int(start)) & (df_concat.dolocationid==int(end)) \\\n",
    "                           & (df_concat.taxi_type=='green')])\n",
    "        if df_g.shape[0] == 0:\n",
    "            print('No record to display for this route')\n",
    "        else:\n",
    "            taxi_plot(df_g,stat,taxi,field,start,end) \n",
    "            \n",
    "    elif not (start ==265  and end == 265 ) and taxi=='yellow':\n",
    "        \n",
    "        df_g = pd.DataFrame(df_concat.loc[(df_concat.pulocationid==int(start)) & (df_concat.dolocationid==int(end)) \\\n",
    "                           & (df_concat.taxi_type=='yellow')])\n",
    "        if df_g.shape[0] == 0:\n",
    "            print('No record to display for this route')\n",
    "        else:\n",
    "            taxi_plot(df_g,stat,taxi,field,start,end)\n",
    "                   \n",
    "        "
   ]
  },
  {
   "cell_type": "code",
   "execution_count": null,
   "metadata": {},
   "outputs": [],
   "source": []
  },
  {
   "cell_type": "code",
   "execution_count": null,
   "metadata": {},
   "outputs": [],
   "source": []
  },
  {
   "cell_type": "code",
   "execution_count": null,
   "metadata": {},
   "outputs": [],
   "source": []
  },
  {
   "cell_type": "code",
   "execution_count": 1226,
   "metadata": {},
   "outputs": [
    {
     "data": {
      "application/vnd.jupyter.widget-view+json": {
       "model_id": "258fd07bd73f49efb58ece57694e1c62",
       "version_major": 2,
       "version_minor": 0
      },
      "text/plain": [
       "HBox(children=(VBox(children=(Dropdown(description='Start', index=128, options=(('Newark Airport', 1), ('Jamai…"
      ]
     },
     "metadata": {},
     "output_type": "display_data"
    },
    {
     "data": {
      "application/vnd.jupyter.widget-view+json": {
       "model_id": "ec979db1c1ac4626a51c2c4a8df8dd3b",
       "version_major": 2,
       "version_minor": 0
      },
      "text/plain": [
       "Output()"
      ]
     },
     "metadata": {},
     "output_type": "display_data"
    }
   ],
   "source": [
    "from __future__ import print_function\n",
    "from ipywidgets import interact, interactive, fixed, interact_manual\n",
    "import ipywidgets as widgets\n",
    "\n",
    "a = widgets.Dropdown(description='Start',options=loc_list,value=132)\n",
    "b = widgets.Dropdown(description='End',options=loc_list1,value=265)\n",
    "c = widgets.RadioButtons(description='Stat',options=stat_list, value='median')\n",
    "d = widgets.Select(description='Field',options=field_list, value='trip_duration')\n",
    "e = widgets.RadioButtons(description='Taxi',options=['All','green','yellow'], value='All')\n",
    "left_box = widgets.VBox([a, b])\n",
    "right_box = widgets.VBox([e,c])\n",
    "right_box1 = widgets.VBox([d])\n",
    "ui = widgets.HBox([left_box,right_box,right_box1])\n",
    "out = widgets.interactive_output(taxi_viz,{'start':a,'end':b,'taxi':e, 'stat':c, 'field':d})\n",
    "display(ui, out)"
   ]
  },
  {
   "cell_type": "code",
   "execution_count": null,
   "metadata": {},
   "outputs": [],
   "source": []
  },
  {
   "cell_type": "code",
   "execution_count": null,
   "metadata": {},
   "outputs": [],
   "source": []
  }
 ],
 "metadata": {
  "kernelspec": {
   "display_name": "Python 3",
   "language": "python",
   "name": "python3"
  },
  "language_info": {
   "codemirror_mode": {
    "name": "ipython",
    "version": 3
   },
   "file_extension": ".py",
   "mimetype": "text/x-python",
   "name": "python",
   "nbconvert_exporter": "python",
   "pygments_lexer": "ipython3",
   "version": "3.8.3"
  }
 },
 "nbformat": 4,
 "nbformat_minor": 4
}
