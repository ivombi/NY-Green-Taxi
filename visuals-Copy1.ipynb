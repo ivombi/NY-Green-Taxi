{
 "cells": [
  {
   "cell_type": "markdown",
   "metadata": {},
   "source": [
    "#### Purpose: New York Visualization Project\n",
    "#### Autho: Kubam Ivo\n",
    "#### Date: 1/19/2021"
   ]
  },
  {
   "cell_type": "markdown",
   "metadata": {},
   "source": [
    "### Importing and preparing dataset"
   ]
  },
  {
   "cell_type": "code",
   "execution_count": 864,
   "metadata": {},
   "outputs": [],
   "source": [
    "import pandas as pd\n",
    "df_y = pd.read_csv(\"C:\\\\Users\\\\ivomb\\\\OneDrive\\\\Msc Data Science\\\\INFOH600-Computing Foundations\\\\Project\\\\df_yellow.csv\")\n",
    "df_g = pd.read_csv(\"C:\\\\Users\\\\ivomb\\\\OneDrive\\\\Msc Data Science\\\\INFOH600-Computing Foundations\\\\Project\\\\df_green.csv\")\n",
    "df_loc = pd.read_csv(\"C:\\\\Users\\\\ivomb\\\\Downloads\\\\taxi+_zone_lookup.csv\")"
   ]
  },
  {
   "cell_type": "code",
   "execution_count": 865,
   "metadata": {},
   "outputs": [],
   "source": [
    "# Filtering needed columns \n",
    "df_y = df_y[['tpep_pickup_datetime', 'tpep_dropoff_datetime', 'trip_distance', 'pulocationid', \\\n",
    "         'dolocationid', 'tip_amount', 'total_amount', 'trip_month' ]]\n",
    "\n",
    "df_g = df_g[['lpep_pickup_datetime', 'lpep_dropoff_datetime', 'trip_distance', 'pulocationid', \\\n",
    "         'dolocationid', 'tip_amount', 'total_amount', 'trip_month' ]]"
   ]
  },
  {
   "cell_type": "code",
   "execution_count": 866,
   "metadata": {},
   "outputs": [],
   "source": [
    "import warnings\n",
    "warnings.filterwarnings('ignore')"
   ]
  },
  {
   "cell_type": "code",
   "execution_count": 867,
   "metadata": {},
   "outputs": [],
   "source": [
    "# Ensuring pickup and dropoff fields are datetime\n",
    "\n",
    "df_y['tpep_pickup_datetime'] = pd.to_datetime(df_y['tpep_pickup_datetime'])\n",
    "df_y['tpep_dropoff_datetime'] = pd.to_datetime(df_y['tpep_dropoff_datetime'])\n",
    "df_g['lpep_pickup_datetime'] = pd.to_datetime(df_g['lpep_pickup_datetime'])\n",
    "df_g['lpep_dropoff_datetime'] = pd.to_datetime(df_g['lpep_dropoff_datetime'])"
   ]
  },
  {
   "cell_type": "code",
   "execution_count": 868,
   "metadata": {},
   "outputs": [],
   "source": [
    "# Extracting new columns\n",
    "df_y['day'] = df_y['tpep_pickup_datetime'].apply(lambda time: time.dayofweek)\n",
    "df_y['day_name'] = df_y['tpep_pickup_datetime'].dt.day_name()\n",
    "df_y['month_name'] = df_y['tpep_pickup_datetime'].dt.month_name()\n",
    "df_y['year'] = pd.DatetimeIndex(df_y.loc[:,'tpep_pickup_datetime']).year\n",
    "df_y['hour'] = pd.DatetimeIndex(df_y.loc[:,'tpep_pickup_datetime']).hour\n",
    "df_y['trip_duration'] = (df_y['tpep_dropoff_datetime'] -\\\n",
    "                         df_y['tpep_pickup_datetime']).astype('timedelta64[m]')\n",
    "df_y['uc_mile'] = df_y['trip_distance']/df['total_amount']\n",
    "df_y['taxi_type'] = 'yellow'\n",
    "\n",
    "df_g['day'] = df_g['lpep_dropoff_datetime'].apply(lambda time: time.dayofweek)\n",
    "df_g['day_name'] = df_g['lpep_dropoff_datetime'].dt.day_name()\n",
    "df_g['month_name'] = df_g['lpep_dropoff_datetime'].dt.month_name()\n",
    "df_g['year'] = pd.DatetimeIndex(df_g.loc[:,'lpep_pickup_datetime']).year\n",
    "df_g['hour'] = pd.DatetimeIndex(df_g.loc[:,'lpep_pickup_datetime']).hour\n",
    "df_g['trip_duration'] = (df_g['lpep_dropoff_datetime'] - \\\n",
    "                         df_g['lpep_pickup_datetime']).astype('timedelta64[m]')\n",
    "df_g['uc_mile'] = df_g['trip_distance']/df['total_amount']\n",
    "df_g['taxi_type'] = 'green'"
   ]
  },
  {
   "cell_type": "code",
   "execution_count": 869,
   "metadata": {},
   "outputs": [],
   "source": [
    "# Renaming the schema of green taxi to match that of yellow\n",
    "df_g.rename(columns={'lpep_dropoff_datetime':'tpep_dropoff_datetime', 'lpep_pickup_datetime': 'tpep_pickup_datetime'},inplace=True)\n"
   ]
  },
  {
   "cell_type": "code",
   "execution_count": 870,
   "metadata": {},
   "outputs": [
    {
     "data": {
      "text/plain": [
       "3258745"
      ]
     },
     "execution_count": 870,
     "metadata": {},
     "output_type": "execute_result"
    }
   ],
   "source": [
    "# concat both datasets\n",
    "df_concat = pd.concat([df_y,df_g])\n",
    "df_concat.head()\n",
    "df_concat.shape[0]"
   ]
  },
  {
   "cell_type": "code",
   "execution_count": 871,
   "metadata": {},
   "outputs": [],
   "source": [
    "# Deleting rows with pickup time less than dropoff time\n",
    "index_name = df_concat[df_concat['trip_duration']<0].index\n",
    "df_concat.drop(index_name,inplace=True)"
   ]
  },
  {
   "cell_type": "code",
   "execution_count": 843,
   "metadata": {},
   "outputs": [],
   "source": [
    "df_concat['p_time'] = df_concat['tpep_pickup_datetime'].dt.time \n",
    "df_concat['p_time'] = df_concat['tpep_dropoff_datetime'].dt.time "
   ]
  },
  {
   "cell_type": "code",
   "execution_count": 841,
   "metadata": {},
   "outputs": [
    {
     "data": {
      "text/plain": [
       "tpep_pickup_datetime     datetime64[ns]\n",
       "tpep_dropoff_datetime    datetime64[ns]\n",
       "trip_distance                   float64\n",
       "pulocationid                    float64\n",
       "dolocationid                    float64\n",
       "tip_amount                      float64\n",
       "total_amount                    float64\n",
       "trip_month                        int64\n",
       "day                               int64\n",
       "day_name                         object\n",
       "month_name                       object\n",
       "year                              int64\n",
       "hour                              int64\n",
       "trip_duration                   float64\n",
       "uc_mile                         float64\n",
       "taxi_type                        object\n",
       "p_time                           object\n",
       "d_time                           object\n",
       "dtype: object"
      ]
     },
     "execution_count": 841,
     "metadata": {},
     "output_type": "execute_result"
    }
   ],
   "source": [
    "df_concat.dtypes"
   ]
  },
  {
   "cell_type": "code",
   "execution_count": 840,
   "metadata": {},
   "outputs": [
    {
     "data": {
      "text/html": [
       "<div>\n",
       "<style scoped>\n",
       "    .dataframe tbody tr th:only-of-type {\n",
       "        vertical-align: middle;\n",
       "    }\n",
       "\n",
       "    .dataframe tbody tr th {\n",
       "        vertical-align: top;\n",
       "    }\n",
       "\n",
       "    .dataframe thead th {\n",
       "        text-align: right;\n",
       "    }\n",
       "</style>\n",
       "<table border=\"1\" class=\"dataframe\">\n",
       "  <thead>\n",
       "    <tr style=\"text-align: right;\">\n",
       "      <th></th>\n",
       "      <th>tpep_pickup_datetime</th>\n",
       "      <th>tpep_dropoff_datetime</th>\n",
       "      <th>trip_distance</th>\n",
       "      <th>pulocationid</th>\n",
       "      <th>dolocationid</th>\n",
       "      <th>tip_amount</th>\n",
       "      <th>total_amount</th>\n",
       "      <th>trip_month</th>\n",
       "      <th>day</th>\n",
       "      <th>day_name</th>\n",
       "      <th>month_name</th>\n",
       "      <th>year</th>\n",
       "      <th>hour</th>\n",
       "      <th>trip_duration</th>\n",
       "      <th>uc_mile</th>\n",
       "      <th>taxi_type</th>\n",
       "      <th>p_time</th>\n",
       "      <th>d_time</th>\n",
       "    </tr>\n",
       "  </thead>\n",
       "  <tbody>\n",
       "    <tr>\n",
       "      <th>0</th>\n",
       "      <td>2009-01-08 20:08:00</td>\n",
       "      <td>2009-01-08 20:09:00</td>\n",
       "      <td>0.57</td>\n",
       "      <td>239.0</td>\n",
       "      <td>239.0</td>\n",
       "      <td>0.0</td>\n",
       "      <td>3.8</td>\n",
       "      <td>1</td>\n",
       "      <td>3</td>\n",
       "      <td>Thursday</td>\n",
       "      <td>January</td>\n",
       "      <td>2009</td>\n",
       "      <td>20</td>\n",
       "      <td>1.0</td>\n",
       "      <td>0.150000</td>\n",
       "      <td>yellow</td>\n",
       "      <td>20:08:00</td>\n",
       "      <td>20:09:00</td>\n",
       "    </tr>\n",
       "    <tr>\n",
       "      <th>1</th>\n",
       "      <td>2009-01-30 08:05:00</td>\n",
       "      <td>2009-01-30 08:11:00</td>\n",
       "      <td>1.25</td>\n",
       "      <td>263.0</td>\n",
       "      <td>141.0</td>\n",
       "      <td>0.0</td>\n",
       "      <td>5.3</td>\n",
       "      <td>1</td>\n",
       "      <td>4</td>\n",
       "      <td>Friday</td>\n",
       "      <td>January</td>\n",
       "      <td>2009</td>\n",
       "      <td>8</td>\n",
       "      <td>6.0</td>\n",
       "      <td>0.235849</td>\n",
       "      <td>yellow</td>\n",
       "      <td>08:05:00</td>\n",
       "      <td>08:11:00</td>\n",
       "    </tr>\n",
       "    <tr>\n",
       "      <th>2</th>\n",
       "      <td>2009-01-16 17:55:16</td>\n",
       "      <td>2009-01-16 18:03:20</td>\n",
       "      <td>0.90</td>\n",
       "      <td>143.0</td>\n",
       "      <td>142.0</td>\n",
       "      <td>0.0</td>\n",
       "      <td>7.1</td>\n",
       "      <td>1</td>\n",
       "      <td>4</td>\n",
       "      <td>Friday</td>\n",
       "      <td>January</td>\n",
       "      <td>2009</td>\n",
       "      <td>17</td>\n",
       "      <td>8.0</td>\n",
       "      <td>0.126761</td>\n",
       "      <td>yellow</td>\n",
       "      <td>17:55:16</td>\n",
       "      <td>18:03:20</td>\n",
       "    </tr>\n",
       "    <tr>\n",
       "      <th>3</th>\n",
       "      <td>2009-01-10 23:50:00</td>\n",
       "      <td>2009-01-11 00:00:00</td>\n",
       "      <td>2.51</td>\n",
       "      <td>230.0</td>\n",
       "      <td>137.0</td>\n",
       "      <td>0.0</td>\n",
       "      <td>9.0</td>\n",
       "      <td>1</td>\n",
       "      <td>5</td>\n",
       "      <td>Saturday</td>\n",
       "      <td>January</td>\n",
       "      <td>2009</td>\n",
       "      <td>23</td>\n",
       "      <td>10.0</td>\n",
       "      <td>0.278889</td>\n",
       "      <td>yellow</td>\n",
       "      <td>23:50:00</td>\n",
       "      <td>00:00:00</td>\n",
       "    </tr>\n",
       "    <tr>\n",
       "      <th>4</th>\n",
       "      <td>2009-01-29 18:35:37</td>\n",
       "      <td>2009-01-29 18:49:19</td>\n",
       "      <td>1.90</td>\n",
       "      <td>114.0</td>\n",
       "      <td>186.0</td>\n",
       "      <td>0.0</td>\n",
       "      <td>9.9</td>\n",
       "      <td>1</td>\n",
       "      <td>3</td>\n",
       "      <td>Thursday</td>\n",
       "      <td>January</td>\n",
       "      <td>2009</td>\n",
       "      <td>18</td>\n",
       "      <td>13.0</td>\n",
       "      <td>0.191919</td>\n",
       "      <td>yellow</td>\n",
       "      <td>18:35:37</td>\n",
       "      <td>18:49:19</td>\n",
       "    </tr>\n",
       "  </tbody>\n",
       "</table>\n",
       "</div>"
      ],
      "text/plain": [
       "  tpep_pickup_datetime tpep_dropoff_datetime  trip_distance  pulocationid  \\\n",
       "0  2009-01-08 20:08:00   2009-01-08 20:09:00           0.57         239.0   \n",
       "1  2009-01-30 08:05:00   2009-01-30 08:11:00           1.25         263.0   \n",
       "2  2009-01-16 17:55:16   2009-01-16 18:03:20           0.90         143.0   \n",
       "3  2009-01-10 23:50:00   2009-01-11 00:00:00           2.51         230.0   \n",
       "4  2009-01-29 18:35:37   2009-01-29 18:49:19           1.90         114.0   \n",
       "\n",
       "   dolocationid  tip_amount  total_amount  trip_month  day  day_name  \\\n",
       "0         239.0         0.0           3.8           1    3  Thursday   \n",
       "1         141.0         0.0           5.3           1    4    Friday   \n",
       "2         142.0         0.0           7.1           1    4    Friday   \n",
       "3         137.0         0.0           9.0           1    5  Saturday   \n",
       "4         186.0         0.0           9.9           1    3  Thursday   \n",
       "\n",
       "  month_name  year  hour  trip_duration   uc_mile taxi_type    p_time  \\\n",
       "0    January  2009    20            1.0  0.150000    yellow  20:08:00   \n",
       "1    January  2009     8            6.0  0.235849    yellow  08:05:00   \n",
       "2    January  2009    17            8.0  0.126761    yellow  17:55:16   \n",
       "3    January  2009    23           10.0  0.278889    yellow  23:50:00   \n",
       "4    January  2009    18           13.0  0.191919    yellow  18:35:37   \n",
       "\n",
       "     d_time  \n",
       "0  20:09:00  \n",
       "1  08:11:00  \n",
       "2  18:03:20  \n",
       "3  00:00:00  \n",
       "4  18:49:19  "
      ]
     },
     "execution_count": 840,
     "metadata": {},
     "output_type": "execute_result"
    }
   ],
   "source": [
    "df_concat.head()"
   ]
  },
  {
   "cell_type": "code",
   "execution_count": 863,
   "metadata": {},
   "outputs": [
    {
     "data": {
      "text/plain": [
       "3105257"
      ]
     },
     "execution_count": 863,
     "metadata": {},
     "output_type": "execute_result"
    }
   ],
   "source": [
    "df_y.shape[0]"
   ]
  },
  {
   "cell_type": "code",
   "execution_count": 859,
   "metadata": {},
   "outputs": [],
   "source": [
    "def time_slot(df):\n",
    "    '''Function to add time slot for each record'''\n",
    "    n = df.shape[0]\n",
    "    df = df.reset_index()\n",
    "    df['time_slot']= ''\n",
    "    for i in range(n):\n",
    "        print(i)\n",
    "        if df['hour'][i]>= 0 and df['hour'][i]<2:\n",
    "            df['time_slot'][i]= '00:00-01:59'\n",
    "        elif df['hour'][i]>= 2 and df['hour'][i]<4:\n",
    "            df['time_slot'][i]= '02:00-03:59'\n",
    "        elif df['hour'][i]>= 4 and df['hour'][i]<6:\n",
    "            df['time_slot'][i]= '04:00-05:59'\n",
    "        elif df['hour'][i]>= 6 and df['hour'][i]<8:\n",
    "            df['time_slot'][i]= '06:00-07:59'\n",
    "        elif df['hour'][i]>= 8 and df['hour'][i]<10:\n",
    "            df['time_slot'][i]= '08:00-09:59'\n",
    "        elif df['hour'][i]>= 10 and df['hour'][i]<12:\n",
    "            df['time_slot'][i]= '10:00-11:59'\n",
    "        elif df['hour'][i]>= 12 and df['hour'][i]< 14:\n",
    "            df['time_slot'][i]= '12:00-13:59'\n",
    "        elif df['hour'][i]>= 14 and df['hour'][i]<16:\n",
    "            df['time_slot'][i]= '14:00-15:59'\n",
    "        elif df['hour'][i]>= 16 and df['hour'][i]<18:\n",
    "            df['time_slot'][i]= '16:00-17:59'\n",
    "        elif df['hour'][i]>= 18 and df['hour'][i]<20: \n",
    "            df['time_slot'][i]= '18:00-19:59'\n",
    "        elif df['hour'][i]>= 20 and df['hour'][i]<22:\n",
    "            df['time_slot'][i]= '20:00-21:59'\n",
    "        elif df['hour'][i]>= 2 :\n",
    "            df['time_slot'][i]= '22:00-23:59'\n",
    "        \n",
    "    return df"
   ]
  },
  {
   "cell_type": "code",
   "execution_count": 804,
   "metadata": {},
   "outputs": [],
   "source": [
    "def time_slot(df):\n",
    "    '''Function to add time slot for each record'''\n",
    "    n = df.shape[0]\n",
    "    df = df.reset_index()\n",
    "    df['time_slot']= ''\n",
    "    for i in range(n):\n",
    "        if df['p_time'][i]>= pd.to_datetime(pd.to_datetime('00:00').strftime(\"%H:%M:%S\")) \\\n",
    "        and df['d_time'][i] <= pd.to_datetime(pd.to_datetime('01:59').strftime(\"%H:%M:%S\")):\n",
    "            df['time_slot'][i]= '00:00-01:59'\n",
    "        elif pd.to_datetime(pd.to_datetime(df['tpep_pickup_datetime'][i]).strftime(\"%H:%M:%S\")) >= pd.to_datetime(pd.to_datetime('02:00').strftime(\"%H:%M:%S\")) \\\n",
    "        and pd.to_datetime(pd.to_datetime(df['tpep_dropoff_datetime'][i]).strftime(\"%H:%M:%S\")) <= pd.to_datetime(pd.to_datetime('03:59').strftime(\"%H:%M:%S\")): \n",
    "            df['time_slot'][i]= '02:00-03:59'\n",
    "        elif pd.to_datetime(pd.to_datetime(df['tpep_pickup_datetime'][i]).strftime(\"%H:%M:%S\")) >= pd.to_datetime(pd.to_datetime('04:00').strftime(\"%H:%M:%S\")) \\\n",
    "        and pd.to_datetime(pd.to_datetime(df['tpep_dropoff_datetime'][i]).strftime(\"%H:%M:%S\")) <= pd.to_datetime(pd.to_datetime('05:59').strftime(\"%H:%M:%S\")):\n",
    "            df['time_slot'][i]= '04:00-05:59'\n",
    "        elif pd.to_datetime(pd.to_datetime(df['tpep_pickup_datetime'][i]).strftime(\"%H:%M:%S\")) >= pd.to_datetime(pd.to_datetime('06:00').strftime(\"%H:%M:%S\")) \\\n",
    "        and pd.to_datetime(pd.to_datetime(df['tpep_dropoff_datetime'][i]).strftime(\"%H:%M:%S\")) <= pd.to_datetime(pd.to_datetime('07:59').strftime(\"%H:%M:%S\")):\n",
    "            df['time_slot'][i]= '06:00-07:59'\n",
    "        elif pd.to_datetime(pd.to_datetime(df['tpep_pickup_datetime'][i]).strftime(\"%H:%M:%S\")) >= pd.to_datetime(pd.to_datetime('08:00').strftime(\"%H:%M:%S\")) \\\n",
    "        and pd.to_datetime(pd.to_datetime(df['tpep_dropoff_datetime'][i]).strftime(\"%H:%M:%S\")) <= pd.to_datetime(pd.to_datetime('09:59').strftime(\"%H:%M:%S\")):\n",
    "            df['time_slot'][i]= '08:00-09:59'\n",
    "        elif pd.to_datetime(pd.to_datetime(df['tpep_pickup_datetime'][i]).strftime(\"%H:%M:%S\")) >= pd.to_datetime(pd.to_datetime('10:00').strftime(\"%H:%M:%S\")) \\\n",
    "        and pd.to_datetime(pd.to_datetime(df['tpep_dropoff_datetime'][i]).strftime(\"%H:%M:%S\")) <= pd.to_datetime(pd.to_datetime('11:59').strftime(\"%H:%M:%S\")):\n",
    "            df['time_slot'][i]= '10:00-11:59'\n",
    "        elif pd.to_datetime(pd.to_datetime(df['tpep_pickup_datetime'][i]).strftime(\"%H:%M:%S\")) >= pd.to_datetime(pd.to_datetime('12:00').strftime(\"%H:%M:%S\")) \\\n",
    "        and pd.to_datetime(pd.to_datetime(df['tpep_dropoff_datetime'][i]).strftime(\"%H:%M:%S\")) <= pd.to_datetime(pd.to_datetime('13:59').strftime(\"%H:%M:%S\")):\n",
    "            df['time_slot'][i]= '12:00-13:59'\n",
    "        elif pd.to_datetime(pd.to_datetime(df['tpep_pickup_datetime'][i]).strftime(\"%H:%M:%S\")) >= pd.to_datetime(pd.to_datetime('14:00').strftime(\"%H:%M:%S\")) \\\n",
    "        and pd.to_datetime(pd.to_datetime(df['tpep_dropoff_datetime'][i]).strftime(\"%H:%M:%S\")) <= pd.to_datetime(pd.to_datetime('15:59').strftime(\"%H:%M:%S\")):\n",
    "            df['time_slot'][i]= '14:00-15:59'\n",
    "        elif pd.to_datetime(pd.to_datetime(df['tpep_pickup_datetime'][i]).strftime(\"%H:%M:%S\")) >= pd.to_datetime(pd.to_datetime('16:00').strftime(\"%H:%M:%S\")) \\\n",
    "        and pd.to_datetime(pd.to_datetime(df['tpep_dropoff_datetime'][i]).strftime(\"%H:%M:%S\")) <= pd.to_datetime(pd.to_datetime('17:59').strftime(\"%H:%M:%S\")):\n",
    "            df['time_slot'][i]= '16:00-17:59'\n",
    "        elif pd.to_datetime(pd.to_datetime(df['tpep_pickup_datetime'][i]).strftime(\"%H:%M:%S\")) >= pd.to_datetime(pd.to_datetime('18:00').strftime(\"%H:%M:%S\")) \\\n",
    "        and pd.to_datetime(pd.to_datetime(df['tpep_dropoff_datetime'][i]).strftime(\"%H:%M:%S\")) <= pd.to_datetime(pd.to_datetime('19:59').strftime(\"%H:%M:%S\")):\n",
    "            df['time_slot'][i]= '18:00-19:59'\n",
    "        elif pd.to_datetime(pd.to_datetime(df['tpep_pickup_datetime'][i]).strftime(\"%H:%M:%S\")) >= pd.to_datetime(pd.to_datetime('20:00').strftime(\"%H:%M:%S\")) \\\n",
    "        and pd.to_datetime(pd.to_datetime(df['tpep_dropoff_datetime'][i]).strftime(\"%H:%M:%S\")) <= pd.to_datetime(pd.to_datetime('21:59').strftime(\"%H:%M:%S\")):\n",
    "            df['time_slot'][i]= '20:00-21:59'\n",
    "        elif pd.to_datetime(pd.to_datetime(df['tpep_pickup_datetime'][i]).strftime(\"%H:%M:%S\")) >= pd.to_datetime(pd.to_datetime('22:00').strftime(\"%H:%M:%S\")) \\\n",
    "        and pd.to_datetime(pd.to_datetime(df['tpep_dropoff_datetime'][i]).strftime(\"%H:%M:%S\")) <= pd.to_datetime(pd.to_datetime('23:59').strftime(\"%H:%M:%S\")):\n",
    "            df['time_slot'][i]= '22:00-23:59'\n",
    "        \n",
    "    return df"
   ]
  },
  {
   "cell_type": "code",
   "execution_count": 872,
   "metadata": {},
   "outputs": [],
   "source": [
    "x1 = df_concat.groupby(\n",
    "     ['hour','day']\n",
    " ).agg(\n",
    "     sum_col3 = ('trip_duration','median'),\n",
    " ).reset_index()\n",
    "x1 = x1.pivot('day', 'hour', \"sum_col3\")\n",
    "\n",
    "y1 = df_concat.groupby(\n",
    "     ['trip_month','taxi_type']\n",
    " ).agg(\n",
    "     sum_col3 = ('trip_duration','median'),\n",
    " ).reset_index()\n"
   ]
  },
  {
   "cell_type": "code",
   "execution_count": 873,
   "metadata": {},
   "outputs": [
    {
     "data": {
      "image/png": "[encoded data removed]",
      "text/plain": [
       "<Figure size 432x288 with 2 Axes>"
      ]
     },
     "metadata": {
      "needs_background": "light"
     },
     "output_type": "display_data"
    }
   ],
   "source": [
    "b = sns.heatmap(x1, annot=True,linewidths=.5)"
   ]
  },
  {
   "cell_type": "code",
   "execution_count": null,
   "metadata": {},
   "outputs": [],
   "source": [
    "a = sns.catplot(x='trip_month', y=\"sum_col3\" ,hue=\"taxi_type\", kind=\"bar\",data=y1)\n",
    "a.set(xlabel='Month', ylabel='amount')\n",
    "\n"
   ]
  },
  {
   "cell_type": "code",
   "execution_count": 884,
   "metadata": {},
   "outputs": [
    {
     "data": {
      "image/png": "[encoded data removed]",
      "text/plain": [
       "<Figure size 864x576 with 3 Axes>"
      ]
     },
     "metadata": {
      "needs_background": "light"
     },
     "output_type": "display_data"
    }
   ],
   "source": [
    "x_axis_labels = ['Jan','Feb','Mar','Apr','May','Jun','Jul','Aug','Sep','Oct','Nov','Dec'] # labels for x-axis\n",
    "y_axis_labels = ['Mon','Tue','Wed','Thur','Fri','Sat','Sun'] # labels for y-axis\n",
    "\n",
    "f, axes = plt.subplots(2, 1, figsize=(12,8))\n",
    "a = sns.barplot(x='trip_month', y=\"sum_col3\",color=\"green\", data=y1, hue='taxi_type', ax=axes[0])\n",
    "a.set(xlabel='Month', ylabel='amount',xticklabels=x_axis_labels)\n",
    "b = sns.heatmap(x1, annot=True,linewidths=.5, ax=axes[1] , yticklabels=y_axis_labels)\n",
    "\n",
    "#for index, row in y1.iterrows():\n",
    "#    a.text(row.name,row.sum_col3, round(row.sum_col3,0), color='black', ha=\"center\")\n"
   ]
  },
  {
   "cell_type": "markdown",
   "metadata": {},
   "source": [
    "#### Auxillary Functions to create Visuals"
   ]
  },
  {
   "cell_type": "code",
   "execution_count": 464,
   "metadata": {},
   "outputs": [],
   "source": [
    "def taxi_viz(start, end,stat,field,taxi='All'):\n",
    "    '''Function to create plot based on defined route'''\n",
    "    from sort_dataframeby_monthorweek import Sort_Dataframeby_Month\n",
    "    import matplotlib.pyplot as plt\n",
    "    import seaborn as sns\n",
    "    import numpy as np\n",
    "  \n",
    "    dict = {}\n",
    "    for i in range(df_loc.shape[0]):\n",
    "        dict[df_loc['Zone'][i]] = df_loc['LocationID'][i]\n",
    "\n",
    "    loc_list = [(k, v) for k, v in dict.items()] \n",
    "    loc_list = loc_list[:-1]\n",
    "    \n",
    "    dict1 = {}\n",
    "    for i in np.unique(np.array(df_concat['dolocationid'][df_concat['pulocationid']==start])):\n",
    "        dict1[df_loc['Zone'][i-1]] = df_loc['LocationID'][i-1]\n",
    "\n",
    "    loc_list1= [(k, v) for k, v in dict1.items()] \n",
    "    loc_list1 = loc_list1[:-1]\n",
    "    \n",
    "    stat_list = [('mean','mean'),('median','median')]\n",
    "    field_list = [('Duration trip','trip_duration'),('Trip Amount','total_amount'),('Tip Amount','tip_amount'),\\\n",
    "                  ('Trip distance','trip_distance')]\n",
    "    \n",
    "    fig, ax = plt.subplots(figsize=(12,5))\n",
    "         \n",
    "    if not (start ==0  and end == 0 ) and taxi=='All':\n",
    "        \n",
    "        df_g = pd.DataFrame(df_concat.loc[(df_concat.pulocationid==int(start)) & (df_concat.dolocationid==int(end))] )\n",
    "        if df_g.shape[0] == 0:\n",
    "            print('No record to display for this route')\n",
    "        else:\n",
    "            df_g = df.groupby(['month_name']).agg({field:stat})\n",
    "            df_g['trip_month']= df_g.index\n",
    "            df_g = Sort_Dataframeby_Month(df=df_g,monthcolumnname='trip_month')\n",
    "            rect = ax.bar(df_g['trip_month'], df_g[field])\n",
    "            \n",
    "            if field == 'trip_duration':    \n",
    "                ax.set_ylabel('Trip_duration (mins)')\n",
    "                ax.set_xlabel('Month')\n",
    "                ax.set_title('Monthly '+stat+ ' '+ taxi + ' taxi ' + ' trip duration from ' + df_loc['Zone'][df_loc['LocationID']==start].any() + \\\n",
    "                             ' to ' + df_loc['Zone'][df_loc['LocationID']==end].any())\n",
    "            elif field == 'total_amount':\n",
    "                ax.set_ylabel('Total amount (dollars)')\n",
    "                ax.set_xlabel('Month')\n",
    "                ax.set_title('Monthly '+stat+ ' '+ taxi + ' taxi ' + ' trip duration from ' + df_loc['Zone'][df_loc['LocationID']==start].any() + \\\n",
    "                             ' to ' + df_loc['Zone'][df_loc['LocationID']==end].any())\n",
    "            elif field == 'tip_amount':\n",
    "                ax.set_ylabel('Trip amount (dollars)')\n",
    "                ax.set_xlabel('Month')\n",
    "                ax.set_title('Monthly '+stat+ ' '+ taxi + ' taxi ' + ' trip duration from ' + df_loc['Zone'][df_loc['LocationID']==start].any() + \\\n",
    "                             ' to ' + df_loc['Zone'][df_loc['LocationID']==end].any())\n",
    "            elif field == 'trip_distance':\n",
    "                ax.set_ylabel('Trip distance (Miles)')\n",
    "                ax.set_xlabel('Month')\n",
    "                ax.set_title('Monthly '+stat+ ' '+ taxi + ' taxi ' + ' trip duration from ' + df_loc['Zone'][df_loc['LocationID']==start].any() + \\\n",
    "                             ' to ' + df_loc['Zone'][df_loc['LocationID']==end].any())\n",
    "\n",
    "            def autolabel(rects):\n",
    "                \"\"\"Attach a text label above each bar in *rects*, displaying its height.\"\"\"\n",
    "                for rect in rects:\n",
    "                    height = rect.get_height()\n",
    "                    ax.annotate('{:10.1f}'.format(height),\n",
    "                                xy=(rect.get_x() + rect.get_width() / 2, height),\n",
    "                                xytext=(0, 3),  # 3 points vertical offset\n",
    "                                textcoords=\"offset points\",\n",
    "                                ha='center', va='bottom')\n",
    "            autolabel(rect)\n",
    "            \n",
    "            \n",
    "\n",
    "            fig.tight_layout()\n",
    "\n",
    "            plt.show()\n",
    "        \n",
    "    elif not (start ==0  and end == 0 ) and taxi=='green':\n",
    "        \n",
    "        df_g = pd.DataFrame(df_concat.loc[(df_concat.pulocationid==int(start)) & (df_concat.dolocationid==int(end)) \\\n",
    "                           & (df_concat.taxi_type=='green')])\n",
    "        if df_g.shape[0] == 0:\n",
    "            print('No record to display for this route')\n",
    "        else:\n",
    "            df_g = df.groupby(['month_name']).agg({field:stat})\n",
    "            df_g['trip_month']= df_g.index\n",
    "            df_g = Sort_Dataframeby_Month(df=df_g,monthcolumnname='trip_month')\n",
    "            rect = ax.bar(df_g['trip_month'], df_g[field])\n",
    "            \n",
    "            if field == 'trip_duration':    \n",
    "                ax.set_ylabel('Trip_duration (mins)')\n",
    "                ax.set_xlabel('Month')\n",
    "                ax.set_title('Monthly '+stat+ ' '+ taxi + ' taxi ' + ' trip duration from ' + df_loc['Zone'][df_loc['LocationID']==start].any() + \\\n",
    "                             ' to ' + df_loc['Zone'][df_loc['LocationID']==end].any())\n",
    "                \n",
    "            elif field == 'total_amount':\n",
    "                ax.set_ylabel('Total amount (dollars)')\n",
    "                ax.set_xlabel('Month')\n",
    "                ax.set_title('Monthly '+stat+ ' '+ taxi + ' taxi ' + ' trip duration from ' + df_loc['Zone'][df_loc['LocationID']==start].any() + \\\n",
    "                             ' to ' + df_loc['Zone'][df_loc['LocationID']==end].any())\n",
    "                \n",
    "            elif field == 'tip_amount':\n",
    "                ax.set_ylabel('Trip amount (dollars)')\n",
    "                ax.set_xlabel('Month')\n",
    "                ax.set_title('Monthly '+stat+ ' '+ taxi + ' taxi ' + ' trip duration from ' + df_loc['Zone'][df_loc['LocationID']==start].any() + \\\n",
    "                             ' to ' + df_loc['Zone'][df_loc['LocationID']==end].any())\n",
    "                \n",
    "            elif field == 'trip_distance':\n",
    "                ax.set_ylabel('Trip distance (Miles)')\n",
    "                ax.set_xlabel('Month')\n",
    "                ax.set_title('Monthly '+stat+ ' '+ taxi + ' taxi ' + ' trip duration from ' + df_loc['Zone'][df_loc['LocationID']==start].any() + \\\n",
    "                             ' to ' + df_loc['Zone'][df_loc['LocationID']==end].any())\n",
    "\n",
    "            def autolabel(rects):\n",
    "                \"\"\"Attach a text label above each bar in *rects*, displaying its height.\"\"\"\n",
    "                for rect in rects:\n",
    "                    height = rect.get_height()\n",
    "                    ax.annotate('{:10.1f}'.format(height),\n",
    "                                xy=(rect.get_x() + rect.get_width() / 2, height),\n",
    "                                xytext=(0, 3),  # 3 points vertical offset\n",
    "                                textcoords=\"offset points\",\n",
    "                                ha='center', va='bottom')\n",
    "            autolabel(rect)\n",
    "\n",
    "            fig.tight_layout()\n",
    "\n",
    "            plt.show()\n",
    "                                         \n",
    "    elif not (start ==0  and end == 0 ) and taxi=='yellow':\n",
    "        \n",
    "        df_g = pd.DataFrame(df_concat.loc[(df_concat.pulocationid==int(start)) & (df_concat.dolocationid==int(end)) \\\n",
    "                           & (df_concat.taxi_type=='yellow')])\n",
    "        if df_g.shape[0] == 0:\n",
    "            print('No record to display for this route')\n",
    "        else:\n",
    "            df_g = df.groupby(['month_name']).agg({field:stat})\n",
    "            df_g['trip_month']= df_g.index\n",
    "            df_g = Sort_Dataframeby_Month(df=df_g,monthcolumnname='trip_month')\n",
    "            rect = ax.bar(df_g['trip_month'], df_g[field])\n",
    "            \n",
    "            if field == 'trip_duration':    \n",
    "                ax.set_ylabel('Trip_duration (mins)')\n",
    "                ax.set_xlabel('Month')\n",
    "                ax.set_title('Monthly '+stat+ ' '+ taxi + ' taxi ' + ' trip duration from ' + df_loc['Zone'][df_loc['LocationID']==start].any() + \\\n",
    "                             ' to ' + df_loc['Zone'][df_loc['LocationID']==end].any())\n",
    "                \n",
    "            elif field == 'total_amount':\n",
    "                ax.set_ylabel('Total amount (dollars)')\n",
    "                ax.set_xlabel('Month')\n",
    "                ax.set_title('Monthly '+stat+ ' '+ taxi + ' taxi ' + ' trip duration from ' + df_loc['Zone'][df_loc['LocationID']==start].any() + \\\n",
    "                             ' to ' + df_loc['Zone'][df_loc['LocationID']==end].any())\n",
    "                \n",
    "            elif field == 'tip_amount':\n",
    "                ax.set_ylabel('Trip amount (dollars)')\n",
    "                ax.set_xlabel('Month')\n",
    "                ax.set_title('Monthly '+stat+ ' '+ taxi + ' taxi ' + ' trip duration from ' + df_loc['Zone'][df_loc['LocationID']==start].any() + \\\n",
    "                             ' to ' + df_loc['Zone'][df_loc['LocationID']==end].any())\n",
    "                \n",
    "            elif field == 'trip_distance':\n",
    "                ax.set_ylabel('Trip distance (Miles)')\n",
    "                ax.set_xlabel('Month')\n",
    "                ax.set_title('Monthly '+stat+ ' '+ taxi + ' taxi ' + ' trip duration from ' + df_loc['Zone'][df_loc['LocationID']==start].any() + \\\n",
    "                             ' to ' + df_loc['Zone'][df_loc['LocationID']==end].any())\n",
    "           \n",
    "\n",
    "            def autolabel(rects):\n",
    "                \"\"\"Attach a text label above each bar in *rects*, displaying its height.\"\"\"\n",
    "                for rect in rects:\n",
    "                    height = rect.get_height()\n",
    "                    ax.annotate('{:10.1f}'.format(height),\n",
    "                                xy=(rect.get_x() + rect.get_width() / 2, height),\n",
    "                                xytext=(0, 3),  # 3 points vertical offset\n",
    "                                textcoords=\"offset points\",\n",
    "                                ha='center', va='bottom')\n",
    "            autolabel(rect)\n",
    "\n",
    "            fig.tight_layout()\n",
    "\n",
    "            plt.show()\n",
    "                   \n",
    "        "
   ]
  },
  {
   "cell_type": "code",
   "execution_count": 465,
   "metadata": {},
   "outputs": [
    {
     "data": {
      "application/vnd.jupyter.widget-view+json": {
       "model_id": "0f6659311d314d01a153d1812e0e17f3",
       "version_major": 2,
       "version_minor": 0
      },
      "text/plain": [
       "HBox(children=(VBox(children=(Dropdown(description='Start', index=259, options=(('Newark Airport', 1), ('Jamai…"
      ]
     },
     "metadata": {},
     "output_type": "display_data"
    },
    {
     "data": {
      "application/vnd.jupyter.widget-view+json": {
       "model_id": "a9829417738c40d895aa8ce0c777ba14",
       "version_major": 2,
       "version_minor": 0
      },
      "text/plain": [
       "Output()"
      ]
     },
     "metadata": {},
     "output_type": "display_data"
    }
   ],
   "source": [
    "from __future__ import print_function\n",
    "from ipywidgets import interact, interactive, fixed, interact_manual\n",
    "import ipywidgets as widgets\n",
    "\n",
    "a = widgets.Dropdown(description='Start',options=loc_list,value=263)\n",
    "b = widgets.Dropdown(description='End',options=loc_list1)\n",
    "c = widgets.RadioButtons(description='Stat',options=stat_list, value='mean')\n",
    "d = widgets.Select(description='Field',options=field_list, value='trip_duration')\n",
    "e = widgets.RadioButtons(description='Taxi',options=['All','green','yellow'], value='All')\n",
    "left_box = widgets.VBox([a, b])\n",
    "right_box = widgets.VBox([e,c])\n",
    "right_box1 = widgets.VBox([d])\n",
    "ui = widgets.HBox([left_box,right_box,right_box1])\n",
    "out = widgets.interactive_output(taxi_viz,{'start':a,'end':b,'taxi':e, 'stat':c, 'field':d})\n",
    "display(ui, out)"
   ]
  },
  {
   "cell_type": "code",
   "execution_count": 455,
   "metadata": {},
   "outputs": [
    {
     "ename": "ValueError",
     "evalue": "cannot find widget or abbreviation for argument: 'field'",
     "output_type": "error",
     "traceback": [
      "\u001b[1;31m---------------------------------------------------------------------------\u001b[0m",
      "\u001b[1;31mValueError\u001b[0m                                Traceback (most recent call last)",
      "\u001b[1;32m<ipython-input-455-aa97656b5781>\u001b[0m in \u001b[0;36m<module>\u001b[1;34m\u001b[0m\n\u001b[1;32m----> 1\u001b[1;33m \u001b[0mw\u001b[0m \u001b[1;33m=\u001b[0m \u001b[0minteractive\u001b[0m\u001b[1;33m(\u001b[0m\u001b[0mmonth_viz\u001b[0m\u001b[1;33m,\u001b[0m\u001b[0mstart\u001b[0m\u001b[1;33m=\u001b[0m\u001b[0mloc_list\u001b[0m\u001b[1;33m,\u001b[0m\u001b[0mend\u001b[0m\u001b[1;33m=\u001b[0m\u001b[0mloc_list\u001b[0m\u001b[1;33m,\u001b[0m \u001b[0mstat\u001b[0m\u001b[1;33m=\u001b[0m\u001b[0mstat_list\u001b[0m\u001b[1;33m)\u001b[0m\u001b[1;33m\u001b[0m\u001b[1;33m\u001b[0m\u001b[0m\n\u001b[0m",
      "\u001b[1;32m~\\anaconda3\\lib\\site-packages\\ipywidgets\\widgets\\interaction.py\u001b[0m in \u001b[0;36m__init__\u001b[1;34m(self, _interactive__interact_f, _interactive__options, **kwargs)\u001b[0m\n\u001b[0;32m    186\u001b[0m         \u001b[0mself\u001b[0m\u001b[1;33m.\u001b[0m\u001b[0mauto_display\u001b[0m \u001b[1;33m=\u001b[0m \u001b[0m__options\u001b[0m\u001b[1;33m.\u001b[0m\u001b[0mget\u001b[0m\u001b[1;33m(\u001b[0m\u001b[1;34m\"auto_display\"\u001b[0m\u001b[1;33m,\u001b[0m \u001b[1;32mFalse\u001b[0m\u001b[1;33m)\u001b[0m\u001b[1;33m\u001b[0m\u001b[1;33m\u001b[0m\u001b[0m\n\u001b[0;32m    187\u001b[0m \u001b[1;33m\u001b[0m\u001b[0m\n\u001b[1;32m--> 188\u001b[1;33m         \u001b[0mnew_kwargs\u001b[0m \u001b[1;33m=\u001b[0m \u001b[0mself\u001b[0m\u001b[1;33m.\u001b[0m\u001b[0mfind_abbreviations\u001b[0m\u001b[1;33m(\u001b[0m\u001b[0mkwargs\u001b[0m\u001b[1;33m)\u001b[0m\u001b[1;33m\u001b[0m\u001b[1;33m\u001b[0m\u001b[0m\n\u001b[0m\u001b[0;32m    189\u001b[0m         \u001b[1;31m# Before we proceed, let's make sure that the user has passed a set of args+kwargs\u001b[0m\u001b[1;33m\u001b[0m\u001b[1;33m\u001b[0m\u001b[1;33m\u001b[0m\u001b[0m\n\u001b[0;32m    190\u001b[0m         \u001b[1;31m# that will lead to a valid call of the function. This protects against unspecified\u001b[0m\u001b[1;33m\u001b[0m\u001b[1;33m\u001b[0m\u001b[1;33m\u001b[0m\u001b[0m\n",
      "\u001b[1;32m~\\anaconda3\\lib\\site-packages\\ipywidgets\\widgets\\interaction.py\u001b[0m in \u001b[0;36mfind_abbreviations\u001b[1;34m(self, kwargs)\u001b[0m\n\u001b[0;32m    286\u001b[0m             \u001b[1;32mfor\u001b[0m \u001b[0mname\u001b[0m\u001b[1;33m,\u001b[0m \u001b[0mvalue\u001b[0m\u001b[1;33m,\u001b[0m \u001b[0mdefault\u001b[0m \u001b[1;32min\u001b[0m \u001b[0m_yield_abbreviations_for_parameter\u001b[0m\u001b[1;33m(\u001b[0m\u001b[0mparam\u001b[0m\u001b[1;33m,\u001b[0m \u001b[0mkwargs\u001b[0m\u001b[1;33m)\u001b[0m\u001b[1;33m:\u001b[0m\u001b[1;33m\u001b[0m\u001b[1;33m\u001b[0m\u001b[0m\n\u001b[0;32m    287\u001b[0m                 \u001b[1;32mif\u001b[0m \u001b[0mvalue\u001b[0m \u001b[1;32mis\u001b[0m \u001b[0mempty\u001b[0m\u001b[1;33m:\u001b[0m\u001b[1;33m\u001b[0m\u001b[1;33m\u001b[0m\u001b[0m\n\u001b[1;32m--> 288\u001b[1;33m                     \u001b[1;32mraise\u001b[0m \u001b[0mValueError\u001b[0m\u001b[1;33m(\u001b[0m\u001b[1;34m'cannot find widget or abbreviation for argument: {!r}'\u001b[0m\u001b[1;33m.\u001b[0m\u001b[0mformat\u001b[0m\u001b[1;33m(\u001b[0m\u001b[0mname\u001b[0m\u001b[1;33m)\u001b[0m\u001b[1;33m)\u001b[0m\u001b[1;33m\u001b[0m\u001b[1;33m\u001b[0m\u001b[0m\n\u001b[0m\u001b[0;32m    289\u001b[0m                 \u001b[0mnew_kwargs\u001b[0m\u001b[1;33m.\u001b[0m\u001b[0mappend\u001b[0m\u001b[1;33m(\u001b[0m\u001b[1;33m(\u001b[0m\u001b[0mname\u001b[0m\u001b[1;33m,\u001b[0m \u001b[0mvalue\u001b[0m\u001b[1;33m,\u001b[0m \u001b[0mdefault\u001b[0m\u001b[1;33m)\u001b[0m\u001b[1;33m)\u001b[0m\u001b[1;33m\u001b[0m\u001b[1;33m\u001b[0m\u001b[0m\n\u001b[0;32m    290\u001b[0m         \u001b[1;32mreturn\u001b[0m \u001b[0mnew_kwargs\u001b[0m\u001b[1;33m\u001b[0m\u001b[1;33m\u001b[0m\u001b[0m\n",
      "\u001b[1;31mValueError\u001b[0m: cannot find widget or abbreviation for argument: 'field'"
     ]
    }
   ],
   "source": [
    "w = interactive(month_viz,start=loc_list,end=loc_list, stat=stat_list)"
   ]
  },
  {
   "cell_type": "code",
   "execution_count": 241,
   "metadata": {},
   "outputs": [
    {
     "data": {
      "text/html": [
       "<div>\n",
       "<style scoped>\n",
       "    .dataframe tbody tr th:only-of-type {\n",
       "        vertical-align: middle;\n",
       "    }\n",
       "\n",
       "    .dataframe tbody tr th {\n",
       "        vertical-align: top;\n",
       "    }\n",
       "\n",
       "    .dataframe thead th {\n",
       "        text-align: right;\n",
       "    }\n",
       "</style>\n",
       "<table border=\"1\" class=\"dataframe\">\n",
       "  <thead>\n",
       "    <tr style=\"text-align: right;\">\n",
       "      <th></th>\n",
       "      <th>trip_duration</th>\n",
       "      <th>trip_month</th>\n",
       "    </tr>\n",
       "  </thead>\n",
       "  <tbody>\n",
       "    <tr>\n",
       "      <th>0</th>\n",
       "      <td>1439.0</td>\n",
       "      <td>January</td>\n",
       "    </tr>\n",
       "    <tr>\n",
       "      <th>1</th>\n",
       "      <td>1439.0</td>\n",
       "      <td>February</td>\n",
       "    </tr>\n",
       "    <tr>\n",
       "      <th>2</th>\n",
       "      <td>1516.0</td>\n",
       "      <td>March</td>\n",
       "    </tr>\n",
       "    <tr>\n",
       "      <th>3</th>\n",
       "      <td>49965.0</td>\n",
       "      <td>April</td>\n",
       "    </tr>\n",
       "    <tr>\n",
       "      <th>4</th>\n",
       "      <td>3675.0</td>\n",
       "      <td>May</td>\n",
       "    </tr>\n",
       "    <tr>\n",
       "      <th>5</th>\n",
       "      <td>1439.0</td>\n",
       "      <td>June</td>\n",
       "    </tr>\n",
       "    <tr>\n",
       "      <th>6</th>\n",
       "      <td>1439.0</td>\n",
       "      <td>July</td>\n",
       "    </tr>\n",
       "    <tr>\n",
       "      <th>7</th>\n",
       "      <td>1439.0</td>\n",
       "      <td>August</td>\n",
       "    </tr>\n",
       "    <tr>\n",
       "      <th>8</th>\n",
       "      <td>1439.0</td>\n",
       "      <td>September</td>\n",
       "    </tr>\n",
       "    <tr>\n",
       "      <th>9</th>\n",
       "      <td>1439.0</td>\n",
       "      <td>October</td>\n",
       "    </tr>\n",
       "    <tr>\n",
       "      <th>10</th>\n",
       "      <td>1518.0</td>\n",
       "      <td>November</td>\n",
       "    </tr>\n",
       "    <tr>\n",
       "      <th>11</th>\n",
       "      <td>1439.0</td>\n",
       "      <td>December</td>\n",
       "    </tr>\n",
       "  </tbody>\n",
       "</table>\n",
       "</div>"
      ],
      "text/plain": [
       "    trip_duration trip_month\n",
       "0          1439.0    January\n",
       "1          1439.0   February\n",
       "2          1516.0      March\n",
       "3         49965.0      April\n",
       "4          3675.0        May\n",
       "5          1439.0       June\n",
       "6          1439.0       July\n",
       "7          1439.0     August\n",
       "8          1439.0  September\n",
       "9          1439.0    October\n",
       "10         1518.0   November\n",
       "11         1439.0   December"
      ]
     },
     "execution_count": 241,
     "metadata": {},
     "output_type": "execute_result"
    }
   ],
   "source": [
    "df_g = df_green.groupby(['month_name']).agg({'trip_duration':'max'})\n",
    "df_g['trip_month']= df_g.index\n",
    "Sort_Dataframeby_Month(df=df_g,monthcolumnname='trip_month')"
   ]
  },
  {
   "cell_type": "code",
   "execution_count": 220,
   "metadata": {},
   "outputs": [],
   "source": [
    "a = widgets.Dropdown(description='Start location',options=loc_list,value=95)\n",
    "b = widgets.Dropdown(description='End location',options=loc_list,value=160)"
   ]
  },
  {
   "cell_type": "code",
   "execution_count": 221,
   "metadata": {},
   "outputs": [
    {
     "data": {
      "application/vnd.jupyter.widget-view+json": {
       "model_id": "48db0b0c6efd45d08142ecf904351804",
       "version_major": 2,
       "version_minor": 0
      },
      "text/plain": [
       "interactive(children=(Dropdown(description='Start location', index=93, options=(('Newark Airport', 1), ('Jamai…"
      ]
     },
     "metadata": {},
     "output_type": "display_data"
    },
    {
     "data": {
      "text/plain": [
       "<function __main__.month_viz(start, end, stat='mean')>"
      ]
     },
     "execution_count": 221,
     "metadata": {},
     "output_type": "execute_result"
    }
   ],
   "source": [
    "interact(month_viz,start=a,end=b, stat=stat_list)"
   ]
  },
  {
   "cell_type": "code",
   "execution_count": 211,
   "metadata": {},
   "outputs": [
    {
     "data": {
      "text/plain": [
       "['_dom_classes',\n",
       " '_model_module',\n",
       " '_model_module_version',\n",
       " '_model_name',\n",
       " '_options_labels',\n",
       " '_view_count',\n",
       " '_view_module',\n",
       " '_view_module_version',\n",
       " '_view_name',\n",
       " 'description',\n",
       " 'description_tooltip',\n",
       " 'disabled',\n",
       " 'index',\n",
       " 'layout',\n",
       " 'style']"
      ]
     },
     "execution_count": 211,
     "metadata": {},
     "output_type": "execute_result"
    }
   ],
   "source": [
    "a.keys"
   ]
  },
  {
   "cell_type": "code",
   "execution_count": 372,
   "metadata": {},
   "outputs": [
    {
     "data": {
      "text/plain": [
       "[('Newark Airport', 1),\n",
       " ('Gramercy', 107),\n",
       " ('Hillcrest/Pomonok', 121),\n",
       " ('Midtown Center', 161),\n",
       " ('Midtown East', 162),\n",
       " ('Morningside Heights', 166),\n",
       " ('Times Sq/Theatre District', 230),\n",
       " ('West Chelsea/Hudson Yards', 246),\n",
       " ('West Village', 249),\n",
       " ('NV', 264)]"
      ]
     },
     "execution_count": 372,
     "metadata": {},
     "output_type": "execute_result"
    }
   ],
   "source": [
    "dict1 = {}\n",
    "for i in np.unique(np.array(df['dolocationid'][df['pulocationid']==1])):\n",
    "    dict1[df_loc['Zone'][i-1]] = df_loc['LocationID'][i-1]\n",
    "\n",
    "\n",
    "loc_list1= [(k, v) for k, v in dict1.items()] \n",
    "del loc_list1[-1]\n",
    "loc_list1"
   ]
  },
  {
   "cell_type": "code",
   "execution_count": 343,
   "metadata": {},
   "outputs": [
    {
     "data": {
      "text/html": [
       "<div>\n",
       "<style scoped>\n",
       "    .dataframe tbody tr th:only-of-type {\n",
       "        vertical-align: middle;\n",
       "    }\n",
       "\n",
       "    .dataframe tbody tr th {\n",
       "        vertical-align: top;\n",
       "    }\n",
       "\n",
       "    .dataframe thead th {\n",
       "        text-align: right;\n",
       "    }\n",
       "</style>\n",
       "<table border=\"1\" class=\"dataframe\">\n",
       "  <thead>\n",
       "    <tr style=\"text-align: right;\">\n",
       "      <th></th>\n",
       "      <th>LocationID</th>\n",
       "      <th>Borough</th>\n",
       "      <th>Zone</th>\n",
       "      <th>service_zone</th>\n",
       "    </tr>\n",
       "  </thead>\n",
       "  <tbody>\n",
       "    <tr>\n",
       "      <th>0</th>\n",
       "      <td>1</td>\n",
       "      <td>EWR</td>\n",
       "      <td>Newark Airport</td>\n",
       "      <td>EWR</td>\n",
       "    </tr>\n",
       "    <tr>\n",
       "      <th>1</th>\n",
       "      <td>2</td>\n",
       "      <td>Queens</td>\n",
       "      <td>Jamaica Bay</td>\n",
       "      <td>Boro Zone</td>\n",
       "    </tr>\n",
       "    <tr>\n",
       "      <th>2</th>\n",
       "      <td>3</td>\n",
       "      <td>Bronx</td>\n",
       "      <td>Allerton/Pelham Gardens</td>\n",
       "      <td>Boro Zone</td>\n",
       "    </tr>\n",
       "    <tr>\n",
       "      <th>3</th>\n",
       "      <td>4</td>\n",
       "      <td>Manhattan</td>\n",
       "      <td>Alphabet City</td>\n",
       "      <td>Yellow Zone</td>\n",
       "    </tr>\n",
       "    <tr>\n",
       "      <th>4</th>\n",
       "      <td>5</td>\n",
       "      <td>Staten Island</td>\n",
       "      <td>Arden Heights</td>\n",
       "      <td>Boro Zone</td>\n",
       "    </tr>\n",
       "    <tr>\n",
       "      <th>...</th>\n",
       "      <td>...</td>\n",
       "      <td>...</td>\n",
       "      <td>...</td>\n",
       "      <td>...</td>\n",
       "    </tr>\n",
       "    <tr>\n",
       "      <th>260</th>\n",
       "      <td>261</td>\n",
       "      <td>Manhattan</td>\n",
       "      <td>World Trade Center</td>\n",
       "      <td>Yellow Zone</td>\n",
       "    </tr>\n",
       "    <tr>\n",
       "      <th>261</th>\n",
       "      <td>262</td>\n",
       "      <td>Manhattan</td>\n",
       "      <td>Yorkville East</td>\n",
       "      <td>Yellow Zone</td>\n",
       "    </tr>\n",
       "    <tr>\n",
       "      <th>262</th>\n",
       "      <td>263</td>\n",
       "      <td>Manhattan</td>\n",
       "      <td>Yorkville West</td>\n",
       "      <td>Yellow Zone</td>\n",
       "    </tr>\n",
       "    <tr>\n",
       "      <th>263</th>\n",
       "      <td>264</td>\n",
       "      <td>Unknown</td>\n",
       "      <td>NV</td>\n",
       "      <td>NaN</td>\n",
       "    </tr>\n",
       "    <tr>\n",
       "      <th>264</th>\n",
       "      <td>265</td>\n",
       "      <td>Unknown</td>\n",
       "      <td>NaN</td>\n",
       "      <td>NaN</td>\n",
       "    </tr>\n",
       "  </tbody>\n",
       "</table>\n",
       "<p>265 rows × 4 columns</p>\n",
       "</div>"
      ],
      "text/plain": [
       "     LocationID        Borough                     Zone service_zone\n",
       "0             1            EWR           Newark Airport          EWR\n",
       "1             2         Queens              Jamaica Bay    Boro Zone\n",
       "2             3          Bronx  Allerton/Pelham Gardens    Boro Zone\n",
       "3             4      Manhattan            Alphabet City  Yellow Zone\n",
       "4             5  Staten Island            Arden Heights    Boro Zone\n",
       "..          ...            ...                      ...          ...\n",
       "260         261      Manhattan       World Trade Center  Yellow Zone\n",
       "261         262      Manhattan           Yorkville East  Yellow Zone\n",
       "262         263      Manhattan           Yorkville West  Yellow Zone\n",
       "263         264        Unknown                       NV          NaN\n",
       "264         265        Unknown                      NaN          NaN\n",
       "\n",
       "[265 rows x 4 columns]"
      ]
     },
     "execution_count": 343,
     "metadata": {},
     "output_type": "execute_result"
    }
   ],
   "source": [
    "df_loc"
   ]
  },
  {
   "cell_type": "code",
   "execution_count": null,
   "metadata": {},
   "outputs": [],
   "source": []
  },
  {
   "cell_type": "code",
   "execution_count": 94,
   "metadata": {},
   "outputs": [],
   "source": [
    "def month_viz(start=0, end=0,type='lineplot',stat='mean'):\n",
    "    '''Function to create plot based on defined route'''\n",
    "    \n",
    "    import matplotlib.pyplot as plt\n",
    "    import seaborn as sns\n",
    "    if  (start ==0  and end == 0 ) and type=='bar':\n",
    "        df_g = df_green.groupby(['trip_month']).agg({'trip_duration':stat})\n",
    "        df_g['trip_month']= df_g.index\n",
    "        print(df_g['trip_duration'])\n",
    "        sns.barplot(data=df_g, x='trip_month', y='trip_duration', color = 'blue')\n",
    "        \n",
    "    elif (start ==0  and end == 0 ) and type=='line':\n",
    "        df_g = df_green.groupby(['trip_month']).agg({'trip_duration':stat})\n",
    "        df_g['trip_month']= df_g.index\n",
    "        print(df_g['trip_duration'])\n",
    "        sns.lineplot(data=df_g, x='trip_month', y='trip_duration')\n",
    "    \n",
    "    elif not (start ==0  and end == 0 ):\n",
    "        if type == 'line':\n",
    "            df_g = pd.DataFrame(df_green.loc[(df_green.pulocationid==int(start)) & (df_green.dolocationid==int(end))] )\n",
    "            if df_g.shape[0] == 0:\n",
    "                print('No record to display for this route')\n",
    "            else:\n",
    "                df_g = df_g.groupby(['trip_month']).agg({'trip_duration':stat})\n",
    "                df_g['trip_month']= df_g.index\n",
    "                print(df_g['trip_duration'])\n",
    "                sns.lineplot(data=df_g, x='trip_month', y='trip_duration')\n",
    "            \n",
    "        elif type == 'bar':\n",
    "            df_g = df_green.loc[(df_green.pulocationid==int(start)) & (df_green.dolocationid==int(end))] \n",
    "            if df_g.shape[0] == 0:\n",
    "                print('No record to display for this route')\n",
    "            else:\n",
    "                df_g = df_g.groupby(['trip_month']).agg({'trip_duration':stat})\n",
    "                df_g['trip_month']= df_g.index\n",
    "                print(df_g['trip_duration'])\n",
    "                sns.barplot(data=df_g, x='trip_month', y='trip_duration',color = 'c')\n",
    "        "
   ]
  },
  {
   "cell_type": "code",
   "execution_count": null,
   "metadata": {},
   "outputs": [],
   "source": [
    "import matplotlib.pyplot as plt\n",
    "fig, ax = plt.subplots(figsize=(12,5))\n",
    "stat = 'median'\n",
    "df_g = df_green.groupby(['month_name']).agg({'trip_duration':stat})\n",
    "df_g['trip_month']= df_g.index\n",
    "df_g = Sort_Dataframeby_Month(df=df_g,monthcolumnname='trip_month')\n",
    "rect = ax.bar(df_g['trip_month'], df_g['trip_duration'])\n",
    "\n",
    "ax.set_ylabel('Trip_duration(mins)')\n",
    "ax.set_xlabel('Month')\n",
    "ax.set_title('Monthly '+stat+ ' trip duration')\n",
    "\n",
    "def autolabel(rects):\n",
    "    \"\"\"Attach a text label above each bar in *rects*, displaying its height.\"\"\"\n",
    "    for rect in rects:\n",
    "        height = rect.get_height()\n",
    "        ax.annotate('{:10.1f}'.format(height),\n",
    "                    xy=(rect.get_x() + rect.get_width() / 2, height),\n",
    "                    xytext=(0, 3),  # 3 points vertical offset\n",
    "                    textcoords=\"offset points\",\n",
    "                    ha='center', va='bottom')\n",
    "\n",
    "\n",
    "autolabel(rect)\n",
    "\n",
    "fig.tight_layout()\n",
    "\n",
    "plt.show()"
   ]
  }
 ],
 "metadata": {
  "kernelspec": {
   "display_name": "Python 3",
   "language": "python",
   "name": "python3"
  },
  "language_info": {
   "codemirror_mode": {
    "name": "ipython",
    "version": 3
   },
   "file_extension": ".py",
   "mimetype": "text/x-python",
   "name": "python",
   "nbconvert_exporter": "python",
   "pygments_lexer": "ipython3",
   "version": "3.8.3"
  }
 },
 "nbformat": 4,
 "nbformat_minor": 4
}
